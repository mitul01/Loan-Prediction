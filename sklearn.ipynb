{
  "nbformat": 4,
  "nbformat_minor": 0,
  "metadata": {
    "colab": {
      "name": "sklearn.ipynb",
      "provenance": [],
      "collapsed_sections": []
    },
    "kernelspec": {
      "name": "python3",
      "display_name": "Python 3"
    }
  },
  "cells": [
    {
      "cell_type": "markdown",
      "metadata": {
        "id": "BCF7ld08ZOt6",
        "colab_type": "text"
      },
      "source": [
        "#Libraries"
      ]
    },
    {
      "cell_type": "code",
      "metadata": {
        "id": "_Qr0kgIHZSGD",
        "colab_type": "code",
        "colab": {}
      },
      "source": [
        "import pandas as pd\n",
        "import numpy as np "
      ],
      "execution_count": 1,
      "outputs": []
    },
    {
      "cell_type": "code",
      "metadata": {
        "id": "1cSjL5KlZWqA",
        "colab_type": "code",
        "colab": {}
      },
      "source": [
        "df_train=pd.read_csv('/content/drive/My Drive/Colab Notebooks/Competitions/Loan Prediction/train_ctrUa4K.csv')"
      ],
      "execution_count": 2,
      "outputs": []
    },
    {
      "cell_type": "code",
      "metadata": {
        "id": "-EmjCDb7NpzJ",
        "colab_type": "code",
        "colab": {
          "base_uri": "https://localhost:8080/",
          "height": 84
        },
        "outputId": "052d54ee-04c1-48b7-a232-20ee2438ca03"
      },
      "source": [
        "df_train.columns"
      ],
      "execution_count": 3,
      "outputs": [
        {
          "output_type": "execute_result",
          "data": {
            "text/plain": [
              "Index(['Loan_ID', 'Gender', 'Married', 'Dependents', 'Education',\n",
              "       'Self_Employed', 'ApplicantIncome', 'CoapplicantIncome', 'LoanAmount',\n",
              "       'Loan_Amount_Term', 'Credit_History', 'Property_Area', 'Loan_Status'],\n",
              "      dtype='object')"
            ]
          },
          "metadata": {
            "tags": []
          },
          "execution_count": 3
        }
      ]
    },
    {
      "cell_type": "markdown",
      "metadata": {
        "id": "vlw5LyxPZeii",
        "colab_type": "text"
      },
      "source": [
        "# Data Cleaning"
      ]
    },
    {
      "cell_type": "code",
      "metadata": {
        "id": "QtGrx-sxZiew",
        "colab_type": "code",
        "colab": {}
      },
      "source": [
        "def categorical_to_binary(data,ohe_pa,ohe_dep):\n",
        "  data['Gender']=data['Gender'].map({'Male':1,'Female':0})\n",
        "  data['Married']=data['Married'].map({'Yes':1,'No':0})\n",
        "  data['Education']=data['Education'].map({'Graduate':1,'Not Graduate':0})\n",
        "  data['Self_Employed']=data['Self_Employed'].map({'Yes':1,'No':0})\n",
        "  \n",
        "  dependents=pd.DataFrame(ohe_dep.transform(data[['Dependents']]),columns=['0','1','2'])\n",
        "\n",
        "  property_area=pd.DataFrame(ohe_pa.transform(data[['Property_Area']]),columns=['Urban','Rural'])\n",
        "  data.drop(['Property_Area','Dependents'],axis=1,inplace=True)\n",
        "  data=pd.concat([data,property_area,dependents],axis=1)\n",
        "\n",
        "  return data "
      ],
      "execution_count": 4,
      "outputs": []
    },
    {
      "cell_type": "code",
      "metadata": {
        "id": "UZfHS1pyZll-",
        "colab_type": "code",
        "colab": {}
      },
      "source": [
        "def remove_missing_value_num(data,knn_num):\n",
        "  missing_num=['LoanAmount','Loan_Amount_Term','Credit_History']\n",
        "  missing_value1=pd.DataFrame(data=knn_num.transform(data[missing_num]),columns=missing_num)\n",
        "  \n",
        "  data.drop('CoapplicantIncome',axis=1,inplace=True)\n",
        "  data.drop(missing_num,axis=1,inplace=True)\n",
        "  data=pd.concat([data,missing_value1],axis=1)\n",
        "\n",
        "  return data  "
      ],
      "execution_count": 5,
      "outputs": []
    },
    {
      "cell_type": "code",
      "metadata": {
        "id": "GIjSR3dbZocH",
        "colab_type": "code",
        "colab": {}
      },
      "source": [
        "def remove_missing_value_cat(data,si):\n",
        "  missing_col=['Gender','Married','Dependents','Self_Employed']\n",
        "  filled_values=pd.DataFrame(data=si.transform(data[missing_col]),columns=missing_col)\n",
        "\n",
        "  data.drop(missing_col,axis=1,inplace=True)\n",
        "  data=pd.concat([data,filled_values],axis=1)\n",
        "\n",
        "  return data"
      ],
      "execution_count": 6,
      "outputs": []
    },
    {
      "cell_type": "code",
      "metadata": {
        "id": "XOkm_ry4Zwwz",
        "colab_type": "code",
        "colab": {}
      },
      "source": [
        "def upsampling(data):\n",
        "  data_majority=data[data['Loan_Status']=='Y']\n",
        "  data_minority=data[data['Loan_Status']=='N']\n",
        "\n",
        "  from sklearn.utils import resample\n",
        "\n",
        "  data_minority_upsampled = resample(data_minority, \n",
        "                                 replace=True,   \n",
        "                                 n_samples=len(data_majority),    \n",
        "                                 random_state=123)\n",
        "  \n",
        "  data=pd.concat([data_majority,data_minority_upsampled])\n",
        "\n",
        "  return data"
      ],
      "execution_count": 7,
      "outputs": []
    },
    {
      "cell_type": "markdown",
      "metadata": {
        "id": "IIhTY2XMZw8R",
        "colab_type": "text"
      },
      "source": [
        "# Implementing the functions"
      ]
    },
    {
      "cell_type": "code",
      "metadata": {
        "id": "mrolO6QHDsVO",
        "colab_type": "code",
        "colab": {
          "base_uri": "https://localhost:8080/",
          "height": 50
        },
        "outputId": "dc8fe221-1f1c-4275-954f-914edccf6ecd"
      },
      "source": [
        "missing_col=['Gender','Married','Dependents','Self_Employed']\n",
        "from sklearn.impute import SimpleImputer\n",
        "si=SimpleImputer(strategy='most_frequent')\n",
        "si.fit(df_train[missing_col])"
      ],
      "execution_count": 8,
      "outputs": [
        {
          "output_type": "execute_result",
          "data": {
            "text/plain": [
              "SimpleImputer(add_indicator=False, copy=True, fill_value=None,\n",
              "              missing_values=nan, strategy='most_frequent', verbose=0)"
            ]
          },
          "metadata": {
            "tags": []
          },
          "execution_count": 8
        }
      ]
    },
    {
      "cell_type": "code",
      "metadata": {
        "id": "e7sd6uBCIp9e",
        "colab_type": "code",
        "colab": {}
      },
      "source": [
        "df_train=remove_missing_value_cat(df_train,si)"
      ],
      "execution_count": 9,
      "outputs": []
    },
    {
      "cell_type": "code",
      "metadata": {
        "id": "iNsx7TTfZz8V",
        "colab_type": "code",
        "colab": {
          "base_uri": "https://localhost:8080/",
          "height": 50
        },
        "outputId": "9cc51782-0dc5-43ac-e0f5-f33bb730413e"
      },
      "source": [
        "from sklearn.preprocessing import OneHotEncoder\n",
        "ohe_pa=OneHotEncoder(sparse=False,drop='first')\n",
        "ohe_pa.fit(df_train[['Property_Area']])"
      ],
      "execution_count": 10,
      "outputs": [
        {
          "output_type": "execute_result",
          "data": {
            "text/plain": [
              "OneHotEncoder(categories='auto', drop='first', dtype=<class 'numpy.float64'>,\n",
              "              handle_unknown='error', sparse=False)"
            ]
          },
          "metadata": {
            "tags": []
          },
          "execution_count": 10
        }
      ]
    },
    {
      "cell_type": "code",
      "metadata": {
        "id": "1TgaK3va5z1h",
        "colab_type": "code",
        "colab": {
          "base_uri": "https://localhost:8080/",
          "height": 50
        },
        "outputId": "e790a687-c1e9-42ac-cc21-2ca5822497ef"
      },
      "source": [
        "ohe_dep=OneHotEncoder(sparse=False,drop='first')\n",
        "ohe_dep.fit(df_train[['Dependents']])"
      ],
      "execution_count": 11,
      "outputs": [
        {
          "output_type": "execute_result",
          "data": {
            "text/plain": [
              "OneHotEncoder(categories='auto', drop='first', dtype=<class 'numpy.float64'>,\n",
              "              handle_unknown='error', sparse=False)"
            ]
          },
          "metadata": {
            "tags": []
          },
          "execution_count": 11
        }
      ]
    },
    {
      "cell_type": "code",
      "metadata": {
        "id": "tfR0s-2dlYmV",
        "colab_type": "code",
        "colab": {
          "base_uri": "https://localhost:8080/",
          "height": 50
        },
        "outputId": "d221f061-093a-4109-8b42-83e3b2f26d9c"
      },
      "source": [
        "from sklearn.impute import KNNImputer\n",
        "knn_impute_num=KNNImputer()\n",
        "missing_num=['LoanAmount','Loan_Amount_Term','Credit_History']\n",
        "knn_impute_num.fit(df_train[missing_num])"
      ],
      "execution_count": 12,
      "outputs": [
        {
          "output_type": "execute_result",
          "data": {
            "text/plain": [
              "KNNImputer(add_indicator=False, copy=True, metric='nan_euclidean',\n",
              "           missing_values=nan, n_neighbors=5, weights='uniform')"
            ]
          },
          "metadata": {
            "tags": []
          },
          "execution_count": 12
        }
      ]
    },
    {
      "cell_type": "code",
      "metadata": {
        "id": "Rgt2azd0lrCl",
        "colab_type": "code",
        "colab": {}
      },
      "source": [
        "df_train=categorical_to_binary(df_train,ohe_pa,ohe_dep)"
      ],
      "execution_count": 13,
      "outputs": []
    },
    {
      "cell_type": "code",
      "metadata": {
        "id": "qwkeFsjelxEY",
        "colab_type": "code",
        "colab": {}
      },
      "source": [
        "df_train=remove_missing_value_num(df_train,knn_impute_num)"
      ],
      "execution_count": 14,
      "outputs": []
    },
    {
      "cell_type": "code",
      "metadata": {
        "id": "Gi9TGFk2fAgW",
        "colab_type": "code",
        "colab": {}
      },
      "source": [
        "#df_train=upsampling(df_train)"
      ],
      "execution_count": 15,
      "outputs": []
    },
    {
      "cell_type": "markdown",
      "metadata": {
        "id": "6FXWpXB2l9Ry",
        "colab_type": "text"
      },
      "source": [
        "# Model creation"
      ]
    },
    {
      "cell_type": "code",
      "metadata": {
        "id": "-uhWAjx9l7hs",
        "colab_type": "code",
        "colab": {
          "base_uri": "https://localhost:8080/",
          "height": 215
        },
        "outputId": "54f24007-2167-4f29-cd52-9f5cfdf67684"
      },
      "source": [
        "df_train.head()"
      ],
      "execution_count": 16,
      "outputs": [
        {
          "output_type": "execute_result",
          "data": {
            "text/html": [
              "<div>\n",
              "<style scoped>\n",
              "    .dataframe tbody tr th:only-of-type {\n",
              "        vertical-align: middle;\n",
              "    }\n",
              "\n",
              "    .dataframe tbody tr th {\n",
              "        vertical-align: top;\n",
              "    }\n",
              "\n",
              "    .dataframe thead th {\n",
              "        text-align: right;\n",
              "    }\n",
              "</style>\n",
              "<table border=\"1\" class=\"dataframe\">\n",
              "  <thead>\n",
              "    <tr style=\"text-align: right;\">\n",
              "      <th></th>\n",
              "      <th>Loan_ID</th>\n",
              "      <th>Education</th>\n",
              "      <th>ApplicantIncome</th>\n",
              "      <th>Loan_Status</th>\n",
              "      <th>Gender</th>\n",
              "      <th>Married</th>\n",
              "      <th>Self_Employed</th>\n",
              "      <th>Urban</th>\n",
              "      <th>Rural</th>\n",
              "      <th>0</th>\n",
              "      <th>1</th>\n",
              "      <th>2</th>\n",
              "      <th>LoanAmount</th>\n",
              "      <th>Loan_Amount_Term</th>\n",
              "      <th>Credit_History</th>\n",
              "    </tr>\n",
              "  </thead>\n",
              "  <tbody>\n",
              "    <tr>\n",
              "      <th>0</th>\n",
              "      <td>LP001002</td>\n",
              "      <td>1</td>\n",
              "      <td>5849</td>\n",
              "      <td>Y</td>\n",
              "      <td>1</td>\n",
              "      <td>0</td>\n",
              "      <td>0</td>\n",
              "      <td>0.0</td>\n",
              "      <td>1.0</td>\n",
              "      <td>0.0</td>\n",
              "      <td>0.0</td>\n",
              "      <td>0.0</td>\n",
              "      <td>164.6</td>\n",
              "      <td>360.0</td>\n",
              "      <td>1.0</td>\n",
              "    </tr>\n",
              "    <tr>\n",
              "      <th>1</th>\n",
              "      <td>LP001003</td>\n",
              "      <td>1</td>\n",
              "      <td>4583</td>\n",
              "      <td>N</td>\n",
              "      <td>1</td>\n",
              "      <td>1</td>\n",
              "      <td>0</td>\n",
              "      <td>0.0</td>\n",
              "      <td>0.0</td>\n",
              "      <td>1.0</td>\n",
              "      <td>0.0</td>\n",
              "      <td>0.0</td>\n",
              "      <td>128.0</td>\n",
              "      <td>360.0</td>\n",
              "      <td>1.0</td>\n",
              "    </tr>\n",
              "    <tr>\n",
              "      <th>2</th>\n",
              "      <td>LP001005</td>\n",
              "      <td>1</td>\n",
              "      <td>3000</td>\n",
              "      <td>Y</td>\n",
              "      <td>1</td>\n",
              "      <td>1</td>\n",
              "      <td>1</td>\n",
              "      <td>0.0</td>\n",
              "      <td>1.0</td>\n",
              "      <td>0.0</td>\n",
              "      <td>0.0</td>\n",
              "      <td>0.0</td>\n",
              "      <td>66.0</td>\n",
              "      <td>360.0</td>\n",
              "      <td>1.0</td>\n",
              "    </tr>\n",
              "    <tr>\n",
              "      <th>3</th>\n",
              "      <td>LP001006</td>\n",
              "      <td>0</td>\n",
              "      <td>2583</td>\n",
              "      <td>Y</td>\n",
              "      <td>1</td>\n",
              "      <td>1</td>\n",
              "      <td>0</td>\n",
              "      <td>0.0</td>\n",
              "      <td>1.0</td>\n",
              "      <td>0.0</td>\n",
              "      <td>0.0</td>\n",
              "      <td>0.0</td>\n",
              "      <td>120.0</td>\n",
              "      <td>360.0</td>\n",
              "      <td>1.0</td>\n",
              "    </tr>\n",
              "    <tr>\n",
              "      <th>4</th>\n",
              "      <td>LP001008</td>\n",
              "      <td>1</td>\n",
              "      <td>6000</td>\n",
              "      <td>Y</td>\n",
              "      <td>1</td>\n",
              "      <td>0</td>\n",
              "      <td>0</td>\n",
              "      <td>0.0</td>\n",
              "      <td>1.0</td>\n",
              "      <td>0.0</td>\n",
              "      <td>0.0</td>\n",
              "      <td>0.0</td>\n",
              "      <td>141.0</td>\n",
              "      <td>360.0</td>\n",
              "      <td>1.0</td>\n",
              "    </tr>\n",
              "  </tbody>\n",
              "</table>\n",
              "</div>"
            ],
            "text/plain": [
              "    Loan_ID  Education  ...  Loan_Amount_Term Credit_History\n",
              "0  LP001002          1  ...             360.0            1.0\n",
              "1  LP001003          1  ...             360.0            1.0\n",
              "2  LP001005          1  ...             360.0            1.0\n",
              "3  LP001006          0  ...             360.0            1.0\n",
              "4  LP001008          1  ...             360.0            1.0\n",
              "\n",
              "[5 rows x 15 columns]"
            ]
          },
          "metadata": {
            "tags": []
          },
          "execution_count": 16
        }
      ]
    },
    {
      "cell_type": "code",
      "metadata": {
        "id": "GIOjNcUpl_1V",
        "colab_type": "code",
        "colab": {}
      },
      "source": [
        "df_train['Loan_Status']=df_train['Loan_Status'].map({'Y':1,'N':0})\n",
        "y=df_train['Loan_Status']\n",
        "x=df_train.drop(['Loan_Status','Loan_ID'],axis=1)"
      ],
      "execution_count": 17,
      "outputs": []
    },
    {
      "cell_type": "code",
      "metadata": {
        "id": "SVCqutRXmYJ2",
        "colab_type": "code",
        "colab": {
          "base_uri": "https://localhost:8080/",
          "height": 50
        },
        "outputId": "81ddd3cb-6a16-448f-e658-1d53966221d2"
      },
      "source": [
        "print(len(x))\n",
        "print(len(y))"
      ],
      "execution_count": 18,
      "outputs": [
        {
          "output_type": "stream",
          "text": [
            "614\n",
            "614\n"
          ],
          "name": "stdout"
        }
      ]
    },
    {
      "cell_type": "code",
      "metadata": {
        "id": "_76QJF2UOgOv",
        "colab_type": "code",
        "colab": {
          "base_uri": "https://localhost:8080/",
          "height": 34
        },
        "outputId": "478b485b-ff8e-46b0-f069-024615fc3e77"
      },
      "source": [
        "x.shape"
      ],
      "execution_count": 19,
      "outputs": [
        {
          "output_type": "execute_result",
          "data": {
            "text/plain": [
              "(614, 13)"
            ]
          },
          "metadata": {
            "tags": []
          },
          "execution_count": 19
        }
      ]
    },
    {
      "cell_type": "markdown",
      "metadata": {
        "id": "03Ron5I6boj7",
        "colab_type": "text"
      },
      "source": [
        "#Scaler"
      ]
    },
    {
      "cell_type": "code",
      "metadata": {
        "id": "TrpFcFJ4ridN",
        "colab_type": "code",
        "colab": {}
      },
      "source": [
        "from sklearn.preprocessing import MinMaxScaler\n",
        "mms=MinMaxScaler()\n",
        "x_scaled=mms.fit_transform(x)"
      ],
      "execution_count": 20,
      "outputs": []
    },
    {
      "cell_type": "markdown",
      "metadata": {
        "id": "YfCnWIZUI4uZ",
        "colab_type": "text"
      },
      "source": [
        "#Feature Selection"
      ]
    },
    {
      "cell_type": "code",
      "metadata": {
        "id": "Z1emuSbtIoO5",
        "colab_type": "code",
        "colab": {}
      },
      "source": [
        "from sklearn.feature_selection import mutual_info_classif\n",
        "relation_targets=pd.DataFrame(mutual_info_classif(x_scaled,y),columns=['Relation_with_target'])\n",
        "relation_targets['columns']=x.columns"
      ],
      "execution_count": 21,
      "outputs": []
    },
    {
      "cell_type": "code",
      "metadata": {
        "id": "DQHEmc_DJMnP",
        "colab_type": "code",
        "colab": {
          "base_uri": "https://localhost:8080/",
          "height": 432
        },
        "outputId": "53e0149c-93ca-48f8-db4b-337dfe381c98"
      },
      "source": [
        "relation_targets.sort_values('Relation_with_target',ascending=False)"
      ],
      "execution_count": 22,
      "outputs": [
        {
          "output_type": "execute_result",
          "data": {
            "text/html": [
              "<div>\n",
              "<style scoped>\n",
              "    .dataframe tbody tr th:only-of-type {\n",
              "        vertical-align: middle;\n",
              "    }\n",
              "\n",
              "    .dataframe tbody tr th {\n",
              "        vertical-align: top;\n",
              "    }\n",
              "\n",
              "    .dataframe thead th {\n",
              "        text-align: right;\n",
              "    }\n",
              "</style>\n",
              "<table border=\"1\" class=\"dataframe\">\n",
              "  <thead>\n",
              "    <tr style=\"text-align: right;\">\n",
              "      <th></th>\n",
              "      <th>Relation_with_target</th>\n",
              "      <th>columns</th>\n",
              "    </tr>\n",
              "  </thead>\n",
              "  <tbody>\n",
              "    <tr>\n",
              "      <th>12</th>\n",
              "      <td>0.146649</td>\n",
              "      <td>Credit_History</td>\n",
              "    </tr>\n",
              "    <tr>\n",
              "      <th>4</th>\n",
              "      <td>0.028170</td>\n",
              "      <td>Self_Employed</td>\n",
              "    </tr>\n",
              "    <tr>\n",
              "      <th>2</th>\n",
              "      <td>0.024739</td>\n",
              "      <td>Gender</td>\n",
              "    </tr>\n",
              "    <tr>\n",
              "      <th>5</th>\n",
              "      <td>0.012775</td>\n",
              "      <td>Urban</td>\n",
              "    </tr>\n",
              "    <tr>\n",
              "      <th>1</th>\n",
              "      <td>0.008408</td>\n",
              "      <td>ApplicantIncome</td>\n",
              "    </tr>\n",
              "    <tr>\n",
              "      <th>0</th>\n",
              "      <td>0.000000</td>\n",
              "      <td>Education</td>\n",
              "    </tr>\n",
              "    <tr>\n",
              "      <th>3</th>\n",
              "      <td>0.000000</td>\n",
              "      <td>Married</td>\n",
              "    </tr>\n",
              "    <tr>\n",
              "      <th>6</th>\n",
              "      <td>0.000000</td>\n",
              "      <td>Rural</td>\n",
              "    </tr>\n",
              "    <tr>\n",
              "      <th>7</th>\n",
              "      <td>0.000000</td>\n",
              "      <td>0</td>\n",
              "    </tr>\n",
              "    <tr>\n",
              "      <th>8</th>\n",
              "      <td>0.000000</td>\n",
              "      <td>1</td>\n",
              "    </tr>\n",
              "    <tr>\n",
              "      <th>9</th>\n",
              "      <td>0.000000</td>\n",
              "      <td>2</td>\n",
              "    </tr>\n",
              "    <tr>\n",
              "      <th>10</th>\n",
              "      <td>0.000000</td>\n",
              "      <td>LoanAmount</td>\n",
              "    </tr>\n",
              "    <tr>\n",
              "      <th>11</th>\n",
              "      <td>0.000000</td>\n",
              "      <td>Loan_Amount_Term</td>\n",
              "    </tr>\n",
              "  </tbody>\n",
              "</table>\n",
              "</div>"
            ],
            "text/plain": [
              "    Relation_with_target           columns\n",
              "12              0.146649    Credit_History\n",
              "4               0.028170     Self_Employed\n",
              "2               0.024739            Gender\n",
              "5               0.012775             Urban\n",
              "1               0.008408   ApplicantIncome\n",
              "0               0.000000         Education\n",
              "3               0.000000           Married\n",
              "6               0.000000             Rural\n",
              "7               0.000000                 0\n",
              "8               0.000000                 1\n",
              "9               0.000000                 2\n",
              "10              0.000000        LoanAmount\n",
              "11              0.000000  Loan_Amount_Term"
            ]
          },
          "metadata": {
            "tags": []
          },
          "execution_count": 22
        }
      ]
    },
    {
      "cell_type": "code",
      "metadata": {
        "id": "R9qJjXRT05Bc",
        "colab_type": "code",
        "colab": {}
      },
      "source": [
        "from sklearn.feature_selection import SelectKBest\n",
        "from sklearn.feature_selection import chi2\n",
        "skb=SelectKBest(score_func=chi2,k=x.shape[1])"
      ],
      "execution_count": 23,
      "outputs": []
    },
    {
      "cell_type": "code",
      "metadata": {
        "id": "rbEzuqV9azDR",
        "colab_type": "code",
        "colab": {
          "base_uri": "https://localhost:8080/",
          "height": 34
        },
        "outputId": "89989133-2ff2-475c-89dc-7958ca3a5697"
      },
      "source": [
        "skb.fit(x_scaled,y)"
      ],
      "execution_count": 25,
      "outputs": [
        {
          "output_type": "execute_result",
          "data": {
            "text/plain": [
              "SelectKBest(k=13, score_func=<function chi2 at 0x7f5ca873d510>)"
            ]
          },
          "metadata": {
            "tags": []
          },
          "execution_count": 25
        }
      ]
    },
    {
      "cell_type": "code",
      "metadata": {
        "id": "dY81TCqt4qXw",
        "colab_type": "code",
        "colab": {}
      },
      "source": [
        "best_features=pd.DataFrame(skb.scores_,columns=['Chi2 Score'])\n",
        "best_features['Column']=x.columns"
      ],
      "execution_count": 26,
      "outputs": []
    },
    {
      "cell_type": "code",
      "metadata": {
        "id": "C8pY4s2143-V",
        "colab_type": "code",
        "colab": {
          "base_uri": "https://localhost:8080/",
          "height": 432
        },
        "outputId": "39f26d94-9104-40d5-8a84-804bed9c6ea6"
      },
      "source": [
        "best_features.sort_values('Chi2 Score',ascending=False)"
      ],
      "execution_count": 27,
      "outputs": [
        {
          "output_type": "execute_result",
          "data": {
            "text/html": [
              "<div>\n",
              "<style scoped>\n",
              "    .dataframe tbody tr th:only-of-type {\n",
              "        vertical-align: middle;\n",
              "    }\n",
              "\n",
              "    .dataframe tbody tr th {\n",
              "        vertical-align: top;\n",
              "    }\n",
              "\n",
              "    .dataframe thead th {\n",
              "        text-align: right;\n",
              "    }\n",
              "</style>\n",
              "<table border=\"1\" class=\"dataframe\">\n",
              "  <thead>\n",
              "    <tr style=\"text-align: right;\">\n",
              "      <th></th>\n",
              "      <th>Chi2 Score</th>\n",
              "      <th>Column</th>\n",
              "    </tr>\n",
              "  </thead>\n",
              "  <tbody>\n",
              "    <tr>\n",
              "      <th>12</th>\n",
              "      <td>24.689650</td>\n",
              "      <td>Credit_History</td>\n",
              "    </tr>\n",
              "    <tr>\n",
              "      <th>5</th>\n",
              "      <td>7.103093</td>\n",
              "      <td>Urban</td>\n",
              "    </tr>\n",
              "    <tr>\n",
              "      <th>8</th>\n",
              "      <td>1.996446</td>\n",
              "      <td>1</td>\n",
              "    </tr>\n",
              "    <tr>\n",
              "      <th>3</th>\n",
              "      <td>1.782425</td>\n",
              "      <td>Married</td>\n",
              "    </tr>\n",
              "    <tr>\n",
              "      <th>0</th>\n",
              "      <td>0.988390</td>\n",
              "      <td>Education</td>\n",
              "    </tr>\n",
              "    <tr>\n",
              "      <th>6</th>\n",
              "      <td>0.783946</td>\n",
              "      <td>Rural</td>\n",
              "    </tr>\n",
              "    <tr>\n",
              "      <th>7</th>\n",
              "      <td>0.768400</td>\n",
              "      <td>0</td>\n",
              "    </tr>\n",
              "    <tr>\n",
              "      <th>9</th>\n",
              "      <td>0.384200</td>\n",
              "      <td>2</td>\n",
              "    </tr>\n",
              "    <tr>\n",
              "      <th>10</th>\n",
              "      <td>0.047199</td>\n",
              "      <td>LoanAmount</td>\n",
              "    </tr>\n",
              "    <tr>\n",
              "      <th>2</th>\n",
              "      <td>0.036234</td>\n",
              "      <td>Gender</td>\n",
              "    </tr>\n",
              "    <tr>\n",
              "      <th>11</th>\n",
              "      <td>0.009510</td>\n",
              "      <td>Loan_Amount_Term</td>\n",
              "    </tr>\n",
              "    <tr>\n",
              "      <th>4</th>\n",
              "      <td>0.007285</td>\n",
              "      <td>Self_Employed</td>\n",
              "    </tr>\n",
              "    <tr>\n",
              "      <th>1</th>\n",
              "      <td>0.001195</td>\n",
              "      <td>ApplicantIncome</td>\n",
              "    </tr>\n",
              "  </tbody>\n",
              "</table>\n",
              "</div>"
            ],
            "text/plain": [
              "    Chi2 Score            Column\n",
              "12   24.689650    Credit_History\n",
              "5     7.103093             Urban\n",
              "8     1.996446                 1\n",
              "3     1.782425           Married\n",
              "0     0.988390         Education\n",
              "6     0.783946             Rural\n",
              "7     0.768400                 0\n",
              "9     0.384200                 2\n",
              "10    0.047199        LoanAmount\n",
              "2     0.036234            Gender\n",
              "11    0.009510  Loan_Amount_Term\n",
              "4     0.007285     Self_Employed\n",
              "1     0.001195   ApplicantIncome"
            ]
          },
          "metadata": {
            "tags": []
          },
          "execution_count": 27
        }
      ]
    },
    {
      "cell_type": "markdown",
      "metadata": {
        "id": "HIzAuncdbqHE",
        "colab_type": "text"
      },
      "source": [
        "#Kflod"
      ]
    },
    {
      "cell_type": "code",
      "metadata": {
        "id": "LsvaK4ppm9fG",
        "colab_type": "code",
        "colab": {}
      },
      "source": [
        "from sklearn.model_selection import StratifiedKFold\n",
        "skf_10=StratifiedKFold(n_splits=10,shuffle=True)"
      ],
      "execution_count": 28,
      "outputs": []
    },
    {
      "cell_type": "markdown",
      "metadata": {
        "id": "VDQB_JWjb_NA",
        "colab_type": "text"
      },
      "source": [
        "# Metrics"
      ]
    },
    {
      "cell_type": "code",
      "metadata": {
        "id": "OIzWRI-BppMv",
        "colab_type": "code",
        "colab": {}
      },
      "source": [
        "from sklearn.metrics import accuracy_score\n",
        "from sklearn.metrics import classification_report,confusion_matrix"
      ],
      "execution_count": 49,
      "outputs": []
    },
    {
      "cell_type": "code",
      "metadata": {
        "id": "XZbKlaTjSgem",
        "colab_type": "code",
        "colab": {}
      },
      "source": [
        "from sklearn.model_selection import cross_val_score"
      ],
      "execution_count": 30,
      "outputs": []
    },
    {
      "cell_type": "code",
      "metadata": {
        "id": "hX-jYHMLc2le",
        "colab_type": "code",
        "colab": {}
      },
      "source": [
        "import seaborn as sns\n",
        "import matplotlib.pyplot as plt\n"
      ],
      "execution_count": 54,
      "outputs": []
    },
    {
      "cell_type": "markdown",
      "metadata": {
        "id": "EiJq0FPstZ5M",
        "colab_type": "text"
      },
      "source": [
        "#Selecting Model"
      ]
    },
    {
      "cell_type": "code",
      "metadata": {
        "id": "fD-nHrxXtZKF",
        "colab_type": "code",
        "colab": {}
      },
      "source": [
        "from sklearn.linear_model import LogisticRegression\n",
        "from sklearn.tree import DecisionTreeClassifier\n",
        "from sklearn.ensemble import RandomForestClassifier\n",
        "from sklearn.svm import SVC\n",
        "from sklearn.neighbors import KNeighborsClassifier"
      ],
      "execution_count": 31,
      "outputs": []
    },
    {
      "cell_type": "code",
      "metadata": {
        "id": "z3jQygwWuW6m",
        "colab_type": "code",
        "colab": {}
      },
      "source": [
        "models=[]\n",
        "models.append((\"LogReg\",LogisticRegression()))\n",
        "models.append((\"DesicionTree\",DecisionTreeClassifier()))\n",
        "models.append((\"SVC\",SVC()))\n",
        "models.append((\"kNN\",KNeighborsClassifier()))\n",
        "models.append((\"RandomForest\",RandomForestClassifier()))"
      ],
      "execution_count": 32,
      "outputs": []
    },
    {
      "cell_type": "code",
      "metadata": {
        "id": "tW_ligH5uXHD",
        "colab_type": "code",
        "colab": {
          "base_uri": "https://localhost:8080/",
          "height": 185
        },
        "outputId": "a7748220-157b-4ae9-871b-4813bec9ab46"
      },
      "source": [
        "names=[]\n",
        "result=[]\n",
        "scoring='accuracy'\n",
        "for name,model in models:\n",
        "  cv_result=cross_val_score(model,x_scaled,y,scoring=scoring,cv=skf_10)\n",
        "  print(\"Model created: %s ------> Validation Error: %.2f\" % (name,cv_result.mean()))\n",
        "  print(\"-----------------------------------------------\")"
      ],
      "execution_count": 33,
      "outputs": [
        {
          "output_type": "stream",
          "text": [
            "Model created: LogReg ------> Validation Error: 0.80\n",
            "-----------------------------------------------\n",
            "Model created: DesicionTree ------> Validation Error: 0.68\n",
            "-----------------------------------------------\n",
            "Model created: SVC ------> Validation Error: 0.80\n",
            "-----------------------------------------------\n",
            "Model created: kNN ------> Validation Error: 0.75\n",
            "-----------------------------------------------\n",
            "Model created: RandomForest ------> Validation Error: 0.79\n",
            "-----------------------------------------------\n"
          ],
          "name": "stdout"
        }
      ]
    },
    {
      "cell_type": "markdown",
      "metadata": {
        "id": "j2zM57aS_ICL",
        "colab_type": "text"
      },
      "source": [
        "### Testing the model with SVC , LogReg and RandomForest for Hyperparameter Tuning"
      ]
    },
    {
      "cell_type": "markdown",
      "metadata": {
        "id": "Hls4Xptef7Ys",
        "colab_type": "text"
      },
      "source": [
        "# Testing various model "
      ]
    },
    {
      "cell_type": "code",
      "metadata": {
        "id": "jjN9Pup-cO0M",
        "colab_type": "code",
        "colab": {}
      },
      "source": [
        "from sklearn.model_selection import train_test_split\n",
        "x_train,x_valid,y_train,y_valid=train_test_split(x_scaled,y,test_size=0.25,random_state=0)"
      ],
      "execution_count": 46,
      "outputs": []
    },
    {
      "cell_type": "code",
      "metadata": {
        "id": "ivU9uGK3Z3pB",
        "colab_type": "code",
        "colab": {}
      },
      "source": [
        "from sklearn.model_selection import GridSearchCV\n",
        "import numpy as np"
      ],
      "execution_count": 34,
      "outputs": []
    },
    {
      "cell_type": "markdown",
      "metadata": {
        "id": "PTMlLSx9_pFL",
        "colab_type": "text"
      },
      "source": [
        "## Log Reg"
      ]
    },
    {
      "cell_type": "code",
      "metadata": {
        "id": "2T-oSXCuZ2FC",
        "colab_type": "code",
        "colab": {}
      },
      "source": [
        "log_params={'tol':[0.01,0.001,0.0001,0.00001],\n",
        "            'max_iter':np.linspace(100,500,10),\n",
        "            'class_weight':['None','balanced']\n",
        "          }"
      ],
      "execution_count": 35,
      "outputs": []
    },
    {
      "cell_type": "code",
      "metadata": {
        "id": "GDtSd1rz_VSL",
        "colab_type": "code",
        "colab": {}
      },
      "source": [
        "grid_log=GridSearchCV(estimator=LogisticRegression(n_jobs=-1),\n",
        "                          param_grid=log_params)"
      ],
      "execution_count": 36,
      "outputs": []
    },
    {
      "cell_type": "code",
      "metadata": {
        "colab_type": "code",
        "id": "1Wr-Z-OtAGtA",
        "colab": {
          "base_uri": "https://localhost:8080/",
          "height": 302
        },
        "outputId": "2ccb8e39-ef84-48c3-a572-51e9a8313157"
      },
      "source": [
        "grid_log.fit(x_train,y_train)"
      ],
      "execution_count": 47,
      "outputs": [
        {
          "output_type": "execute_result",
          "data": {
            "text/plain": [
              "GridSearchCV(cv=None, error_score=nan,\n",
              "             estimator=LogisticRegression(C=1.0, class_weight=None, dual=False,\n",
              "                                          fit_intercept=True,\n",
              "                                          intercept_scaling=1, l1_ratio=None,\n",
              "                                          max_iter=100, multi_class='auto',\n",
              "                                          n_jobs=-1, penalty='l2',\n",
              "                                          random_state=None, solver='lbfgs',\n",
              "                                          tol=0.0001, verbose=0,\n",
              "                                          warm_start=False),\n",
              "             iid='deprecated', n_jobs=None,\n",
              "             param_grid={'class_weight': ['None', 'balanced'],\n",
              "                         'max_iter': array([100.        , 144.44444444, 188.88888889, 233.33333333,\n",
              "       277.77777778, 322.22222222, 366.66666667, 411.11111111,\n",
              "       455.55555556, 500.        ]),\n",
              "                         'tol': [0.01, 0.001, 0.0001, 1e-05]},\n",
              "             pre_dispatch='2*n_jobs', refit=True, return_train_score=False,\n",
              "             scoring=None, verbose=0)"
            ]
          },
          "metadata": {
            "tags": []
          },
          "execution_count": 47
        }
      ]
    },
    {
      "cell_type": "code",
      "metadata": {
        "id": "gRIDsjY8bMpR",
        "colab_type": "code",
        "colab": {
          "base_uri": "https://localhost:8080/",
          "height": 34
        },
        "outputId": "33cf800c-7892-437e-926e-ba16c6ff25d4"
      },
      "source": [
        "grid_log.best_score_"
      ],
      "execution_count": 38,
      "outputs": [
        {
          "output_type": "execute_result",
          "data": {
            "text/plain": [
              "0.8013194722111155"
            ]
          },
          "metadata": {
            "tags": []
          },
          "execution_count": 38
        }
      ]
    },
    {
      "cell_type": "code",
      "metadata": {
        "id": "oKDML5t3cjxp",
        "colab_type": "code",
        "colab": {
          "base_uri": "https://localhost:8080/",
          "height": 168
        },
        "outputId": "b6e8c26e-8427-4b83-b282-e40b98bc6ca5"
      },
      "source": [
        "print(classification_report(y_valid,grid_log.predict(x_valid)))"
      ],
      "execution_count": 48,
      "outputs": [
        {
          "output_type": "stream",
          "text": [
            "              precision    recall  f1-score   support\n",
            "\n",
            "           0       0.79      0.44      0.57        43\n",
            "           1       0.82      0.95      0.88       111\n",
            "\n",
            "    accuracy                           0.81       154\n",
            "   macro avg       0.80      0.70      0.72       154\n",
            "weighted avg       0.81      0.81      0.79       154\n",
            "\n"
          ],
          "name": "stdout"
        }
      ]
    },
    {
      "cell_type": "code",
      "metadata": {
        "id": "FGriF-vScwif",
        "colab_type": "code",
        "colab": {
          "base_uri": "https://localhost:8080/",
          "height": 279
        },
        "outputId": "198fbe0f-48c1-4a4b-f50f-1a9b12c9ca68"
      },
      "source": [
        "sns.heatmap(confusion_matrix(y_valid,grid_log.predict(x_valid)),annot=True)\n",
        "plt.xlabel('Actual Values')\n",
        "plt.ylabel('Predicted Values')\n",
        "plt.show()"
      ],
      "execution_count": 55,
      "outputs": [
        {
          "output_type": "display_data",
          "data": {
            "image/png": "[encoded data removed]",
            "text/plain": [
              "<Figure size 432x288 with 2 Axes>"
            ]
          },
          "metadata": {
            "tags": [],
            "needs_background": "light"
          }
        }
      ]
    },
    {
      "cell_type": "markdown",
      "metadata": {
        "id": "UMyztEUy_2Nu",
        "colab_type": "text"
      },
      "source": [
        "## KNN"
      ]
    },
    {
      "cell_type": "code",
      "metadata": {
        "id": "3E1b2DvrgFw6",
        "colab_type": "code",
        "colab": {}
      },
      "source": [
        "knn_params={'n_neighbors':[5,10,15,40],\n",
        "            'algorithm':['auto', 'ball_tree', 'kd_tree', 'brute'],\n",
        "            'weights':['uniform', 'distance'],\n",
        "            'metric' :['euclidean', 'manhattan', 'minkowski'],\n",
        "            'leaf_size':[20,30,40,50],\n",
        "            }"
      ],
      "execution_count": 39,
      "outputs": []
    },
    {
      "cell_type": "code",
      "metadata": {
        "id": "jPBt5Dn2bciC",
        "colab_type": "code",
        "colab": {}
      },
      "source": [
        "grid_knn=GridSearchCV(KNeighborsClassifier(),knn_params)"
      ],
      "execution_count": 40,
      "outputs": []
    },
    {
      "cell_type": "code",
      "metadata": {
        "id": "U8BqjQ4Bbcky",
        "colab_type": "code",
        "colab": {
          "base_uri": "https://localhost:8080/",
          "height": 252
        },
        "outputId": "56adce60-c4ce-4b46-c504-a159962f7e42"
      },
      "source": [
        "grid_knn.fit(x_train,y_train)"
      ],
      "execution_count": 56,
      "outputs": [
        {
          "output_type": "execute_result",
          "data": {
            "text/plain": [
              "GridSearchCV(cv=None, error_score=nan,\n",
              "             estimator=KNeighborsClassifier(algorithm='auto', leaf_size=30,\n",
              "                                            metric='minkowski',\n",
              "                                            metric_params=None, n_jobs=None,\n",
              "                                            n_neighbors=5, p=2,\n",
              "                                            weights='uniform'),\n",
              "             iid='deprecated', n_jobs=None,\n",
              "             param_grid={'algorithm': ['auto', 'ball_tree', 'kd_tree', 'brute'],\n",
              "                         'leaf_size': [20, 30, 40, 50],\n",
              "                         'metric': ['euclidean', 'manhattan', 'minkowski'],\n",
              "                         'n_neighbors': [5, 10, 15, 40],\n",
              "                         'weights': ['uniform', 'distance']},\n",
              "             pre_dispatch='2*n_jobs', refit=True, return_train_score=False,\n",
              "             scoring=None, verbose=0)"
            ]
          },
          "metadata": {
            "tags": []
          },
          "execution_count": 56
        }
      ]
    },
    {
      "cell_type": "code",
      "metadata": {
        "id": "VRX5Vh53bhWu",
        "colab_type": "code",
        "colab": {
          "base_uri": "https://localhost:8080/",
          "height": 34
        },
        "outputId": "697d0659-86e8-4706-dafe-881119baa43a"
      },
      "source": [
        "grid_knn.best_score_"
      ],
      "execution_count": 57,
      "outputs": [
        {
          "output_type": "execute_result",
          "data": {
            "text/plain": [
              "0.7478260869565218"
            ]
          },
          "metadata": {
            "tags": []
          },
          "execution_count": 57
        }
      ]
    },
    {
      "cell_type": "code",
      "metadata": {
        "id": "O6978xsSdR-o",
        "colab_type": "code",
        "colab": {
          "base_uri": "https://localhost:8080/",
          "height": 279
        },
        "outputId": "b043c29c-3d01-47c6-bcd4-83ca386afb6e"
      },
      "source": [
        "sns.heatmap(confusion_matrix(y_valid,grid_knn.predict(x_valid)),annot=True)\n",
        "plt.xlabel('Actual Values')\n",
        "plt.ylabel('Predicted Values')\n",
        "plt.show()"
      ],
      "execution_count": 58,
      "outputs": [
        {
          "output_type": "display_data",
          "data": {
            "image/png": "[encoded data removed]",
            "text/plain": [
              "<Figure size 432x288 with 2 Axes>"
            ]
          },
          "metadata": {
            "tags": [],
            "needs_background": "light"
          }
        }
      ]
    },
    {
      "cell_type": "markdown",
      "metadata": {
        "id": "dOfjnry4BCLG",
        "colab_type": "text"
      },
      "source": [
        "## SVM "
      ]
    },
    {
      "cell_type": "code",
      "metadata": {
        "id": "P5nSb9JpBEUc",
        "colab_type": "code",
        "colab": {}
      },
      "source": [
        "svc_params={#'kernel':['linear', 'poly', 'rbf', 'sigmoid', 'precomputed'],\n",
        "            'tol':[0.01,0.001,0.0001],\n",
        "            'C':[1,10,100]\n",
        "            }\n",
        "svc_grid=GridSearchCV(SVC(),param_grid=svc_params,n_jobs=-1)"
      ],
      "execution_count": 43,
      "outputs": []
    },
    {
      "cell_type": "code",
      "metadata": {
        "id": "EuLviXKgcByV",
        "colab_type": "code",
        "colab": {
          "base_uri": "https://localhost:8080/",
          "height": 202
        },
        "outputId": "6de8361b-d739-402f-cab1-4dd26d1a3d9c"
      },
      "source": [
        "svc_grid.fit(x_train,y_train)"
      ],
      "execution_count": 59,
      "outputs": [
        {
          "output_type": "execute_result",
          "data": {
            "text/plain": [
              "GridSearchCV(cv=None, error_score=nan,\n",
              "             estimator=SVC(C=1.0, break_ties=False, cache_size=200,\n",
              "                           class_weight=None, coef0=0.0,\n",
              "                           decision_function_shape='ovr', degree=3,\n",
              "                           gamma='scale', kernel='rbf', max_iter=-1,\n",
              "                           probability=False, random_state=None, shrinking=True,\n",
              "                           tol=0.001, verbose=False),\n",
              "             iid='deprecated', n_jobs=-1,\n",
              "             param_grid={'C': [1, 10, 100], 'tol': [0.01, 0.001, 0.0001]},\n",
              "             pre_dispatch='2*n_jobs', refit=True, return_train_score=False,\n",
              "             scoring=None, verbose=0)"
            ]
          },
          "metadata": {
            "tags": []
          },
          "execution_count": 59
        }
      ]
    },
    {
      "cell_type": "code",
      "metadata": {
        "id": "IymKU2iScGhQ",
        "colab_type": "code",
        "colab": {
          "base_uri": "https://localhost:8080/",
          "height": 34
        },
        "outputId": "32d5ff72-2549-4f09-a420-5e9b5c380abb"
      },
      "source": [
        "svc_grid.best_score_"
      ],
      "execution_count": 45,
      "outputs": [
        {
          "output_type": "execute_result",
          "data": {
            "text/plain": [
              "0.8029588164734107"
            ]
          },
          "metadata": {
            "tags": []
          },
          "execution_count": 45
        }
      ]
    },
    {
      "cell_type": "code",
      "metadata": {
        "id": "lNSoORbqdlgQ",
        "colab_type": "code",
        "colab": {
          "base_uri": "https://localhost:8080/",
          "height": 279
        },
        "outputId": "57491eb1-9bf7-4267-f114-e651df8cbe5c"
      },
      "source": [
        "sns.heatmap(confusion_matrix(y_valid,svc_grid.predict(x_valid)),annot=True)\n",
        "plt.xlabel('Actual Values')\n",
        "plt.ylabel('Predicted Values')\n",
        "plt.show()"
      ],
      "execution_count": 60,
      "outputs": [
        {
          "output_type": "display_data",
          "data": {
            "image/png": "[encoded data removed]",
            "text/plain": [
              "<Figure size 432x288 with 2 Axes>"
            ]
          },
          "metadata": {
            "tags": [],
            "needs_background": "light"
          }
        }
      ]
    },
    {
      "cell_type": "markdown",
      "metadata": {
        "id": "Bu2hh2HOdq8R",
        "colab_type": "text"
      },
      "source": [
        "# Random Forest"
      ]
    },
    {
      "cell_type": "code",
      "metadata": {
        "id": "WLyFhArETR5Z",
        "colab_type": "code",
        "colab": {}
      },
      "source": [
        "rf_params={ 'n_estimators':[50,100,250,500],\n",
        "           'max_depth':[5,10,20,32],\n",
        "           'min_samples_split':[2,5,15,25],\n",
        "           'min_samples_leaf':[1,5,15,20],\n",
        "           'max_features':['sqrt','log2','auto'],\n",
        "           'criterion':['gini','entropy']\n",
        "}"
      ],
      "execution_count": 61,
      "outputs": []
    },
    {
      "cell_type": "code",
      "metadata": {
        "id": "TH_nVTgFXYLJ",
        "colab_type": "code",
        "colab": {}
      },
      "source": [
        "rf_grid=GridSearchCV(RandomForestClassifier(),param_grid=rf_params)"
      ],
      "execution_count": 62,
      "outputs": []
    },
    {
      "cell_type": "code",
      "metadata": {
        "id": "heQvbEbidz6u",
        "colab_type": "code",
        "colab": {
          "base_uri": "https://localhost:8080/",
          "height": 420
        },
        "outputId": "ed5cb5c6-fb7d-4c87-b724-5d4b4a33499f"
      },
      "source": [
        "rf_grid.fit(x_train,y_train)"
      ],
      "execution_count": 63,
      "outputs": [
        {
          "output_type": "execute_result",
          "data": {
            "text/plain": [
              "GridSearchCV(cv=None, error_score=nan,\n",
              "             estimator=RandomForestClassifier(bootstrap=True, ccp_alpha=0.0,\n",
              "                                              class_weight=None,\n",
              "                                              criterion='gini', max_depth=None,\n",
              "                                              max_features='auto',\n",
              "                                              max_leaf_nodes=None,\n",
              "                                              max_samples=None,\n",
              "                                              min_impurity_decrease=0.0,\n",
              "                                              min_impurity_split=None,\n",
              "                                              min_samples_leaf=1,\n",
              "                                              min_samples_split=2,\n",
              "                                              min_weight_fraction_leaf=0.0,\n",
              "                                              n_estimators=100, n_jobs=No...\n",
              "                                              random_state=None, verbose=0,\n",
              "                                              warm_start=False),\n",
              "             iid='deprecated', n_jobs=None,\n",
              "             param_grid={'criterion': ['gini', 'entropy'],\n",
              "                         'max_depth': [5, 10, 20, 32],\n",
              "                         'max_features': ['sqrt', 'log2', 'auto'],\n",
              "                         'min_samples_leaf': [1, 5, 15, 20],\n",
              "                         'min_samples_split': [2, 5, 15, 25],\n",
              "                         'n_estimators': [50, 100, 250, 500]},\n",
              "             pre_dispatch='2*n_jobs', refit=True, return_train_score=False,\n",
              "             scoring=None, verbose=0)"
            ]
          },
          "metadata": {
            "tags": []
          },
          "execution_count": 63
        }
      ]
    },
    {
      "cell_type": "code",
      "metadata": {
        "id": "5Ij6FxCJqYCO",
        "colab_type": "code",
        "colab": {
          "base_uri": "https://localhost:8080/",
          "height": 34
        },
        "outputId": "b8374bfa-db66-4689-dd0d-721dc21e0847"
      },
      "source": [
        "rf_grid.best_score_"
      ],
      "execution_count": 64,
      "outputs": [
        {
          "output_type": "execute_result",
          "data": {
            "text/plain": [
              "0.8043478260869564"
            ]
          },
          "metadata": {
            "tags": []
          },
          "execution_count": 64
        }
      ]
    },
    {
      "cell_type": "code",
      "metadata": {
        "id": "_9tU3Ljwqbn2",
        "colab_type": "code",
        "colab": {
          "base_uri": "https://localhost:8080/",
          "height": 279
        },
        "outputId": "1f1d5efc-6c22-4a3b-86b0-58a463d38887"
      },
      "source": [
        "sns.heatmap(confusion_matrix(y_valid,rf_grid.predict(x_valid)),annot=True)\n",
        "plt.xlabel('Actual Values')\n",
        "plt.ylabel('Predicted Values')\n",
        "plt.show()"
      ],
      "execution_count": 65,
      "outputs": [
        {
          "output_type": "display_data",
          "data": {
            "image/png": "[encoded data removed]",
            "text/plain": [
              "<Figure size 432x288 with 2 Axes>"
            ]
          },
          "metadata": {
            "tags": [],
            "needs_background": "light"
          }
        }
      ]
    },
    {
      "cell_type": "markdown",
      "metadata": {
        "id": "ycCTSl9iq1It",
        "colab_type": "text"
      },
      "source": [
        "Since we dont want to predict a loan which is bad (0) as good(1) that is false positive. we give priority to model that predict lower false positive"
      ]
    },
    {
      "cell_type": "markdown",
      "metadata": {
        "id": "tFgPR3DmrEaY",
        "colab_type": "text"
      },
      "source": [
        "If I create a scenario say predicting a bad loan as good results in a loss of 20k to bank and say predicting a good loan as bad loan results in a loss of 10k to bank. Thus Cost=10k*false negative + 20K*false positive"
      ]
    },
    {
      "cell_type": "code",
      "metadata": {
        "id": "LAU0WNWKrhaM",
        "colab_type": "code",
        "colab": {
          "base_uri": "https://localhost:8080/",
          "height": 84
        },
        "outputId": "dd5316cd-2197-46c2-94ca-42ec24c2b05c"
      },
      "source": [
        "print(\"cost of RandomForest \",20000*3+10000*24)\n",
        "print(\"cost of KNN \",20000*1+10000*32)\n",
        "print(\"cost of SVM \",20000*4+10000*24)\n",
        "print(\"cost of LogReg \",20000*5+10000*24)"
      ],
      "execution_count": 67,
      "outputs": [
        {
          "output_type": "stream",
          "text": [
            "cost of RandomForest  300000\n",
            "cost of KNN  340000\n",
            "cost of SVM  320000\n",
            "cost of LogReg  340000\n"
          ],
          "name": "stdout"
        }
      ]
    },
    {
      "cell_type": "markdown",
      "metadata": {
        "id": "tWYIn17xsqqc",
        "colab_type": "text"
      },
      "source": [
        "Random Forest works best as per above method"
      ]
    },
    {
      "cell_type": "markdown",
      "metadata": {
        "id": "BMs7vxIEtTkM",
        "colab_type": "text"
      },
      "source": [
        "#Test Data"
      ]
    },
    {
      "cell_type": "code",
      "metadata": {
        "id": "lgZTgWKg1swK",
        "colab_type": "code",
        "colab": {}
      },
      "source": [
        "test=pd.read_csv('/content/drive/My Drive/Colab Notebooks/Competitions/Loan Prediction/test_lAUu6dG.csv')"
      ],
      "execution_count": 68,
      "outputs": []
    },
    {
      "cell_type": "code",
      "metadata": {
        "id": "LbO2BbZbMOSr",
        "colab_type": "code",
        "colab": {}
      },
      "source": [
        "test=remove_missing_value_cat(test,si)"
      ],
      "execution_count": 69,
      "outputs": []
    },
    {
      "cell_type": "code",
      "metadata": {
        "id": "fCz3tghZs_V5",
        "colab_type": "code",
        "colab": {}
      },
      "source": [
        "test=categorical_to_binary(test,ohe_pa,ohe_dep)"
      ],
      "execution_count": 70,
      "outputs": []
    },
    {
      "cell_type": "code",
      "metadata": {
        "id": "B_11lJEftWFq",
        "colab_type": "code",
        "colab": {}
      },
      "source": [
        "test=remove_missing_value_num(test,knn_impute_num)"
      ],
      "execution_count": 71,
      "outputs": []
    },
    {
      "cell_type": "code",
      "metadata": {
        "id": "WOb3M0oDtbUW",
        "colab_type": "code",
        "colab": {}
      },
      "source": [
        "test_id=test['Loan_ID']\n",
        "test.drop('Loan_ID',axis=1,inplace=True)"
      ],
      "execution_count": 72,
      "outputs": []
    },
    {
      "cell_type": "code",
      "metadata": {
        "id": "NRUfyheEtjCK",
        "colab_type": "code",
        "colab": {
          "base_uri": "https://localhost:8080/",
          "height": 34
        },
        "outputId": "50a346f0-68a7-4840-d984-71eb4d74f636"
      },
      "source": [
        "len(test)"
      ],
      "execution_count": 73,
      "outputs": [
        {
          "output_type": "execute_result",
          "data": {
            "text/plain": [
              "367"
            ]
          },
          "metadata": {
            "tags": []
          },
          "execution_count": 73
        }
      ]
    },
    {
      "cell_type": "code",
      "metadata": {
        "id": "qWWaPU_Dtlb1",
        "colab_type": "code",
        "colab": {}
      },
      "source": [
        "test_scaled=mms.transform(test)"
      ],
      "execution_count": 74,
      "outputs": []
    },
    {
      "cell_type": "code",
      "metadata": {
        "id": "JLZMCJj5s-zG",
        "colab_type": "code",
        "colab": {
          "base_uri": "https://localhost:8080/",
          "height": 151
        },
        "outputId": "e2a6466f-6666-466b-a2e1-43babb4ef937"
      },
      "source": [
        "rf_grid.best_estimator_"
      ],
      "execution_count": 75,
      "outputs": [
        {
          "output_type": "execute_result",
          "data": {
            "text/plain": [
              "RandomForestClassifier(bootstrap=True, ccp_alpha=0.0, class_weight=None,\n",
              "                       criterion='gini', max_depth=10, max_features='sqrt',\n",
              "                       max_leaf_nodes=None, max_samples=None,\n",
              "                       min_impurity_decrease=0.0, min_impurity_split=None,\n",
              "                       min_samples_leaf=15, min_samples_split=2,\n",
              "                       min_weight_fraction_leaf=0.0, n_estimators=50,\n",
              "                       n_jobs=None, oob_score=False, random_state=None,\n",
              "                       verbose=0, warm_start=False)"
            ]
          },
          "metadata": {
            "tags": []
          },
          "execution_count": 75
        }
      ]
    },
    {
      "cell_type": "code",
      "metadata": {
        "id": "BDUmPvAOt2R6",
        "colab_type": "code",
        "colab": {}
      },
      "source": [
        "rf_final=RandomForestClassifier(bootstrap=True, ccp_alpha=0.0, class_weight=None,\n",
        "                       criterion='gini', max_depth=10, max_features='sqrt',\n",
        "                       max_leaf_nodes=None, max_samples=None,\n",
        "                       min_impurity_decrease=0.0, min_impurity_split=None,\n",
        "                       min_samples_leaf=15, min_samples_split=2,\n",
        "                       min_weight_fraction_leaf=0.0, n_estimators=50,\n",
        "                       n_jobs=None, oob_score=False, random_state=None,\n",
        "                       verbose=0, warm_start=False)"
      ],
      "execution_count": 76,
      "outputs": []
    },
    {
      "cell_type": "code",
      "metadata": {
        "id": "MY1dYnOQCXcw",
        "colab_type": "code",
        "colab": {
          "base_uri": "https://localhost:8080/",
          "height": 151
        },
        "outputId": "50e6473b-3361-4e2c-d1d8-c0ec59f97ea3"
      },
      "source": [
        "rf_final.fit(x_scaled,y)"
      ],
      "execution_count": 77,
      "outputs": [
        {
          "output_type": "execute_result",
          "data": {
            "text/plain": [
              "RandomForestClassifier(bootstrap=True, ccp_alpha=0.0, class_weight=None,\n",
              "                       criterion='gini', max_depth=10, max_features='sqrt',\n",
              "                       max_leaf_nodes=None, max_samples=None,\n",
              "                       min_impurity_decrease=0.0, min_impurity_split=None,\n",
              "                       min_samples_leaf=15, min_samples_split=2,\n",
              "                       min_weight_fraction_leaf=0.0, n_estimators=50,\n",
              "                       n_jobs=None, oob_score=False, random_state=None,\n",
              "                       verbose=0, warm_start=False)"
            ]
          },
          "metadata": {
            "tags": []
          },
          "execution_count": 77
        }
      ]
    },
    {
      "cell_type": "code",
      "metadata": {
        "id": "OlItYxw-tqHk",
        "colab_type": "code",
        "colab": {}
      },
      "source": [
        "pred=rf_final.predict(test_scaled)"
      ],
      "execution_count": 78,
      "outputs": []
    },
    {
      "cell_type": "code",
      "metadata": {
        "id": "EcdQx6jetzgd",
        "colab_type": "code",
        "colab": {}
      },
      "source": [
        "result=pd.DataFrame()\n",
        "result['Loan_ID']=test_id\n",
        "result['Loan_Status']=pred"
      ],
      "execution_count": 79,
      "outputs": []
    },
    {
      "cell_type": "code",
      "metadata": {
        "id": "RN4AntVYt83i",
        "colab_type": "code",
        "colab": {}
      },
      "source": [
        "result['Loan_Status']=result['Loan_Status'].map({1:'Y',0:'N'})"
      ],
      "execution_count": 80,
      "outputs": []
    },
    {
      "cell_type": "code",
      "metadata": {
        "id": "XL1oqKWvS-m0",
        "colab_type": "code",
        "colab": {
          "base_uri": "https://localhost:8080/",
          "height": 67
        },
        "outputId": "69551ae9-1fa4-4b27-dbfd-9738fc84e621"
      },
      "source": [
        "result['Loan_Status'].value_counts()"
      ],
      "execution_count": 81,
      "outputs": [
        {
          "output_type": "execute_result",
          "data": {
            "text/plain": [
              "Y    308\n",
              "N     59\n",
              "Name: Loan_Status, dtype: int64"
            ]
          },
          "metadata": {
            "tags": []
          },
          "execution_count": 81
        }
      ]
    },
    {
      "cell_type": "code",
      "metadata": {
        "id": "qsck4yxmtM3y",
        "colab_type": "code",
        "colab": {
          "base_uri": "https://localhost:8080/",
          "height": 402
        },
        "outputId": "520829c2-c198-4d91-8d57-0a4ad2237c3a"
      },
      "source": [
        "result"
      ],
      "execution_count": 82,
      "outputs": [
        {
          "output_type": "execute_result",
          "data": {
            "text/html": [
              "<div>\n",
              "<style scoped>\n",
              "    .dataframe tbody tr th:only-of-type {\n",
              "        vertical-align: middle;\n",
              "    }\n",
              "\n",
              "    .dataframe tbody tr th {\n",
              "        vertical-align: top;\n",
              "    }\n",
              "\n",
              "    .dataframe thead th {\n",
              "        text-align: right;\n",
              "    }\n",
              "</style>\n",
              "<table border=\"1\" class=\"dataframe\">\n",
              "  <thead>\n",
              "    <tr style=\"text-align: right;\">\n",
              "      <th></th>\n",
              "      <th>Loan_ID</th>\n",
              "      <th>Loan_Status</th>\n",
              "    </tr>\n",
              "  </thead>\n",
              "  <tbody>\n",
              "    <tr>\n",
              "      <th>0</th>\n",
              "      <td>LP001015</td>\n",
              "      <td>Y</td>\n",
              "    </tr>\n",
              "    <tr>\n",
              "      <th>1</th>\n",
              "      <td>LP001022</td>\n",
              "      <td>Y</td>\n",
              "    </tr>\n",
              "    <tr>\n",
              "      <th>2</th>\n",
              "      <td>LP001031</td>\n",
              "      <td>Y</td>\n",
              "    </tr>\n",
              "    <tr>\n",
              "      <th>3</th>\n",
              "      <td>LP001035</td>\n",
              "      <td>Y</td>\n",
              "    </tr>\n",
              "    <tr>\n",
              "      <th>4</th>\n",
              "      <td>LP001051</td>\n",
              "      <td>Y</td>\n",
              "    </tr>\n",
              "    <tr>\n",
              "      <th>...</th>\n",
              "      <td>...</td>\n",
              "      <td>...</td>\n",
              "    </tr>\n",
              "    <tr>\n",
              "      <th>362</th>\n",
              "      <td>LP002971</td>\n",
              "      <td>Y</td>\n",
              "    </tr>\n",
              "    <tr>\n",
              "      <th>363</th>\n",
              "      <td>LP002975</td>\n",
              "      <td>Y</td>\n",
              "    </tr>\n",
              "    <tr>\n",
              "      <th>364</th>\n",
              "      <td>LP002980</td>\n",
              "      <td>Y</td>\n",
              "    </tr>\n",
              "    <tr>\n",
              "      <th>365</th>\n",
              "      <td>LP002986</td>\n",
              "      <td>Y</td>\n",
              "    </tr>\n",
              "    <tr>\n",
              "      <th>366</th>\n",
              "      <td>LP002989</td>\n",
              "      <td>Y</td>\n",
              "    </tr>\n",
              "  </tbody>\n",
              "</table>\n",
              "<p>367 rows × 2 columns</p>\n",
              "</div>"
            ],
            "text/plain": [
              "      Loan_ID Loan_Status\n",
              "0    LP001015           Y\n",
              "1    LP001022           Y\n",
              "2    LP001031           Y\n",
              "3    LP001035           Y\n",
              "4    LP001051           Y\n",
              "..        ...         ...\n",
              "362  LP002971           Y\n",
              "363  LP002975           Y\n",
              "364  LP002980           Y\n",
              "365  LP002986           Y\n",
              "366  LP002989           Y\n",
              "\n",
              "[367 rows x 2 columns]"
            ]
          },
          "metadata": {
            "tags": []
          },
          "execution_count": 82
        }
      ]
    }
  ]
}