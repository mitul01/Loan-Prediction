{
  "nbformat": 4,
  "nbformat_minor": 0,
  "metadata": {
    "colab": {
      "name": "sklearn.ipynb",
      "provenance": [],
      "collapsed_sections": [],
      "mount_file_id": "19PqGWv7QlR3d96huiogHQTsrKPfk9dj3",
      "authorship_tag": "ABX9TyNAnX+tnyrajIHhHgscgGfU"
    },
    "kernelspec": {
      "name": "python3",
      "display_name": "Python 3"
    }
  },
  "cells": [
    {
      "cell_type": "markdown",
      "metadata": {
        "id": "BCF7ld08ZOt6",
        "colab_type": "text"
      },
      "source": [
        "#Libraries"
      ]
    },
    {
      "cell_type": "code",
      "metadata": {
        "id": "_Qr0kgIHZSGD",
        "colab_type": "code",
        "colab": {}
      },
      "source": [
        "import pandas as pd\n",
        "import numpy as np "
      ],
      "execution_count": 1,
      "outputs": []
    },
    {
      "cell_type": "code",
      "metadata": {
        "id": "1cSjL5KlZWqA",
        "colab_type": "code",
        "colab": {}
      },
      "source": [
        "df_train=pd.read_csv('/content/drive/My Drive/Colab Notebooks/Competitions/Loan Prediction/train_ctrUa4K.csv')"
      ],
      "execution_count": 2,
      "outputs": []
    },
    {
      "cell_type": "code",
      "metadata": {
        "id": "-EmjCDb7NpzJ",
        "colab_type": "code",
        "colab": {
          "base_uri": "https://localhost:8080/",
          "height": 84
        },
        "outputId": "dc22a8a7-0661-4af4-f9ac-987771b5a78d"
      },
      "source": [
        "df_train.columns"
      ],
      "execution_count": 3,
      "outputs": [
        {
          "output_type": "execute_result",
          "data": {
            "text/plain": [
              "Index(['Loan_ID', 'Gender', 'Married', 'Dependents', 'Education',\n",
              "       'Self_Employed', 'ApplicantIncome', 'CoapplicantIncome', 'LoanAmount',\n",
              "       'Loan_Amount_Term', 'Credit_History', 'Property_Area', 'Loan_Status'],\n",
              "      dtype='object')"
            ]
          },
          "metadata": {
            "tags": []
          },
          "execution_count": 3
        }
      ]
    },
    {
      "cell_type": "markdown",
      "metadata": {
        "id": "vlw5LyxPZeii",
        "colab_type": "text"
      },
      "source": [
        "# Data Cleaning"
      ]
    },
    {
      "cell_type": "code",
      "metadata": {
        "id": "QtGrx-sxZiew",
        "colab_type": "code",
        "colab": {}
      },
      "source": [
        "def categorical_to_binary(data,ohe_pa,ohe_dep):\n",
        "  data['Gender']=data['Gender'].map({'Male':1,'Female':0})\n",
        "  data['Married']=data['Married'].map({'Yes':1,'No':0})\n",
        "  data['Education']=data['Education'].map({'Graduate':1,'Not Graduate':0})\n",
        "  data['Self_Employed']=data['Self_Employed'].map({'Yes':1,'No':0})\n",
        "  \n",
        "  dependents=pd.DataFrame(ohe_dep.transform(data[['Dependents']]),columns=['0','1','2'])\n",
        "\n",
        "  property_area=pd.DataFrame(ohe_pa.transform(data[['Property_Area']]),columns=['Urban','Rural'])\n",
        "  data.drop(['Property_Area','Dependents'],axis=1,inplace=True)\n",
        "  data=pd.concat([data,property_area,dependents],axis=1)\n",
        "\n",
        "  return data "
      ],
      "execution_count": 4,
      "outputs": []
    },
    {
      "cell_type": "code",
      "metadata": {
        "id": "UZfHS1pyZll-",
        "colab_type": "code",
        "colab": {}
      },
      "source": [
        "def remove_missing_value_num(data,knn_num):\n",
        "  missing_num=['LoanAmount','Loan_Amount_Term','Credit_History']\n",
        "  missing_value1=pd.DataFrame(data=knn_num.transform(data[missing_num]),columns=missing_num)\n",
        "  \n",
        "  data.drop('CoapplicantIncome',axis=1,inplace=True)\n",
        "  data.drop(missing_num,axis=1,inplace=True)\n",
        "  data=pd.concat([data,missing_value1],axis=1)\n",
        "\n",
        "  return data  "
      ],
      "execution_count": 5,
      "outputs": []
    },
    {
      "cell_type": "code",
      "metadata": {
        "id": "GIjSR3dbZocH",
        "colab_type": "code",
        "colab": {}
      },
      "source": [
        "def remove_missing_value_cat(data,si):\n",
        "  missing_col=['Gender','Married','Dependents','Self_Employed']\n",
        "  filled_values=pd.DataFrame(data=si.transform(data[missing_col]),columns=missing_col)\n",
        "\n",
        "  data.drop(missing_col,axis=1,inplace=True)\n",
        "  data=pd.concat([data,filled_values],axis=1)\n",
        "\n",
        "  return data"
      ],
      "execution_count": 6,
      "outputs": []
    },
    {
      "cell_type": "code",
      "metadata": {
        "id": "XOkm_ry4Zwwz",
        "colab_type": "code",
        "colab": {}
      },
      "source": [
        "def upsampling(data):\n",
        "  data_majority=data[data['Loan_Status']=='Y']\n",
        "  data_minority=data[data['Loan_Status']=='N']\n",
        "\n",
        "  from sklearn.utils import resample\n",
        "\n",
        "  data_minority_upsampled = resample(data_minority, \n",
        "                                 replace=True,   \n",
        "                                 n_samples=len(data_majority),    \n",
        "                                 random_state=123)\n",
        "  \n",
        "  data=pd.concat([data_majority,data_minority_upsampled])\n",
        "\n",
        "  return data"
      ],
      "execution_count": 7,
      "outputs": []
    },
    {
      "cell_type": "markdown",
      "metadata": {
        "id": "IIhTY2XMZw8R",
        "colab_type": "text"
      },
      "source": [
        "# Implementing the functions"
      ]
    },
    {
      "cell_type": "code",
      "metadata": {
        "id": "mrolO6QHDsVO",
        "colab_type": "code",
        "colab": {
          "base_uri": "https://localhost:8080/",
          "height": 50
        },
        "outputId": "782e0923-9f5e-4334-af03-d2ea55246d13"
      },
      "source": [
        "missing_col=['Gender','Married','Dependents','Self_Employed']\n",
        "from sklearn.impute import SimpleImputer\n",
        "si=SimpleImputer(strategy='most_frequent')\n",
        "si.fit(df_train[missing_col])"
      ],
      "execution_count": 8,
      "outputs": [
        {
          "output_type": "execute_result",
          "data": {
            "text/plain": [
              "SimpleImputer(add_indicator=False, copy=True, fill_value=None,\n",
              "              missing_values=nan, strategy='most_frequent', verbose=0)"
            ]
          },
          "metadata": {
            "tags": []
          },
          "execution_count": 8
        }
      ]
    },
    {
      "cell_type": "code",
      "metadata": {
        "id": "e7sd6uBCIp9e",
        "colab_type": "code",
        "colab": {}
      },
      "source": [
        "df_train=remove_missing_value_cat(df_train,si)"
      ],
      "execution_count": 9,
      "outputs": []
    },
    {
      "cell_type": "code",
      "metadata": {
        "id": "iNsx7TTfZz8V",
        "colab_type": "code",
        "colab": {
          "base_uri": "https://localhost:8080/",
          "height": 50
        },
        "outputId": "c0cf17e9-4abb-464e-8255-ad12acd7ec1e"
      },
      "source": [
        "from sklearn.preprocessing import OneHotEncoder\n",
        "ohe_pa=OneHotEncoder(sparse=False,drop='first')\n",
        "ohe_pa.fit(df_train[['Property_Area']])"
      ],
      "execution_count": 10,
      "outputs": [
        {
          "output_type": "execute_result",
          "data": {
            "text/plain": [
              "OneHotEncoder(categories='auto', drop='first', dtype=<class 'numpy.float64'>,\n",
              "              handle_unknown='error', sparse=False)"
            ]
          },
          "metadata": {
            "tags": []
          },
          "execution_count": 10
        }
      ]
    },
    {
      "cell_type": "code",
      "metadata": {
        "id": "1TgaK3va5z1h",
        "colab_type": "code",
        "colab": {
          "base_uri": "https://localhost:8080/",
          "height": 50
        },
        "outputId": "d7db7bd1-5793-49b5-b4e1-b1a637a8b733"
      },
      "source": [
        "ohe_dep=OneHotEncoder(sparse=False,drop='first')\n",
        "ohe_dep.fit(df_train[['Dependents']])"
      ],
      "execution_count": 11,
      "outputs": [
        {
          "output_type": "execute_result",
          "data": {
            "text/plain": [
              "OneHotEncoder(categories='auto', drop='first', dtype=<class 'numpy.float64'>,\n",
              "              handle_unknown='error', sparse=False)"
            ]
          },
          "metadata": {
            "tags": []
          },
          "execution_count": 11
        }
      ]
    },
    {
      "cell_type": "code",
      "metadata": {
        "id": "tfR0s-2dlYmV",
        "colab_type": "code",
        "colab": {
          "base_uri": "https://localhost:8080/",
          "height": 50
        },
        "outputId": "837d6d65-46b6-4bec-fb84-2fe4af2c8371"
      },
      "source": [
        "from sklearn.impute import KNNImputer\n",
        "knn_impute_num=KNNImputer()\n",
        "missing_num=['LoanAmount','Loan_Amount_Term','Credit_History']\n",
        "knn_impute_num.fit(df_train[missing_num])"
      ],
      "execution_count": 12,
      "outputs": [
        {
          "output_type": "execute_result",
          "data": {
            "text/plain": [
              "KNNImputer(add_indicator=False, copy=True, metric='nan_euclidean',\n",
              "           missing_values=nan, n_neighbors=5, weights='uniform')"
            ]
          },
          "metadata": {
            "tags": []
          },
          "execution_count": 12
        }
      ]
    },
    {
      "cell_type": "code",
      "metadata": {
        "id": "Rgt2azd0lrCl",
        "colab_type": "code",
        "colab": {}
      },
      "source": [
        "df_train=categorical_to_binary(df_train,ohe_pa,ohe_dep)"
      ],
      "execution_count": 13,
      "outputs": []
    },
    {
      "cell_type": "code",
      "metadata": {
        "id": "qwkeFsjelxEY",
        "colab_type": "code",
        "colab": {}
      },
      "source": [
        "df_train=remove_missing_value_num(df_train,knn_impute_num)"
      ],
      "execution_count": 14,
      "outputs": []
    },
    {
      "cell_type": "code",
      "metadata": {
        "id": "Gi9TGFk2fAgW",
        "colab_type": "code",
        "colab": {}
      },
      "source": [
        "#df_train=upsampling(df_train)"
      ],
      "execution_count": 15,
      "outputs": []
    },
    {
      "cell_type": "markdown",
      "metadata": {
        "id": "6FXWpXB2l9Ry",
        "colab_type": "text"
      },
      "source": [
        "# Model creation"
      ]
    },
    {
      "cell_type": "code",
      "metadata": {
        "id": "-uhWAjx9l7hs",
        "colab_type": "code",
        "colab": {
          "base_uri": "https://localhost:8080/",
          "height": 215
        },
        "outputId": "0b94ffe0-b3e9-49f6-a7aa-7dc99b77e540"
      },
      "source": [
        "df_train.head()"
      ],
      "execution_count": 16,
      "outputs": [
        {
          "output_type": "execute_result",
          "data": {
            "text/html": [
              "<div>\n",
              "<style scoped>\n",
              "    .dataframe tbody tr th:only-of-type {\n",
              "        vertical-align: middle;\n",
              "    }\n",
              "\n",
              "    .dataframe tbody tr th {\n",
              "        vertical-align: top;\n",
              "    }\n",
              "\n",
              "    .dataframe thead th {\n",
              "        text-align: right;\n",
              "    }\n",
              "</style>\n",
              "<table border=\"1\" class=\"dataframe\">\n",
              "  <thead>\n",
              "    <tr style=\"text-align: right;\">\n",
              "      <th></th>\n",
              "      <th>Loan_ID</th>\n",
              "      <th>Education</th>\n",
              "      <th>ApplicantIncome</th>\n",
              "      <th>Loan_Status</th>\n",
              "      <th>Gender</th>\n",
              "      <th>Married</th>\n",
              "      <th>Self_Employed</th>\n",
              "      <th>Urban</th>\n",
              "      <th>Rural</th>\n",
              "      <th>0</th>\n",
              "      <th>1</th>\n",
              "      <th>2</th>\n",
              "      <th>LoanAmount</th>\n",
              "      <th>Loan_Amount_Term</th>\n",
              "      <th>Credit_History</th>\n",
              "    </tr>\n",
              "  </thead>\n",
              "  <tbody>\n",
              "    <tr>\n",
              "      <th>0</th>\n",
              "      <td>LP001002</td>\n",
              "      <td>1</td>\n",
              "      <td>5849</td>\n",
              "      <td>Y</td>\n",
              "      <td>1</td>\n",
              "      <td>0</td>\n",
              "      <td>0</td>\n",
              "      <td>0.0</td>\n",
              "      <td>1.0</td>\n",
              "      <td>0.0</td>\n",
              "      <td>0.0</td>\n",
              "      <td>0.0</td>\n",
              "      <td>164.6</td>\n",
              "      <td>360.0</td>\n",
              "      <td>1.0</td>\n",
              "    </tr>\n",
              "    <tr>\n",
              "      <th>1</th>\n",
              "      <td>LP001003</td>\n",
              "      <td>1</td>\n",
              "      <td>4583</td>\n",
              "      <td>N</td>\n",
              "      <td>1</td>\n",
              "      <td>1</td>\n",
              "      <td>0</td>\n",
              "      <td>0.0</td>\n",
              "      <td>0.0</td>\n",
              "      <td>1.0</td>\n",
              "      <td>0.0</td>\n",
              "      <td>0.0</td>\n",
              "      <td>128.0</td>\n",
              "      <td>360.0</td>\n",
              "      <td>1.0</td>\n",
              "    </tr>\n",
              "    <tr>\n",
              "      <th>2</th>\n",
              "      <td>LP001005</td>\n",
              "      <td>1</td>\n",
              "      <td>3000</td>\n",
              "      <td>Y</td>\n",
              "      <td>1</td>\n",
              "      <td>1</td>\n",
              "      <td>1</td>\n",
              "      <td>0.0</td>\n",
              "      <td>1.0</td>\n",
              "      <td>0.0</td>\n",
              "      <td>0.0</td>\n",
              "      <td>0.0</td>\n",
              "      <td>66.0</td>\n",
              "      <td>360.0</td>\n",
              "      <td>1.0</td>\n",
              "    </tr>\n",
              "    <tr>\n",
              "      <th>3</th>\n",
              "      <td>LP001006</td>\n",
              "      <td>0</td>\n",
              "      <td>2583</td>\n",
              "      <td>Y</td>\n",
              "      <td>1</td>\n",
              "      <td>1</td>\n",
              "      <td>0</td>\n",
              "      <td>0.0</td>\n",
              "      <td>1.0</td>\n",
              "      <td>0.0</td>\n",
              "      <td>0.0</td>\n",
              "      <td>0.0</td>\n",
              "      <td>120.0</td>\n",
              "      <td>360.0</td>\n",
              "      <td>1.0</td>\n",
              "    </tr>\n",
              "    <tr>\n",
              "      <th>4</th>\n",
              "      <td>LP001008</td>\n",
              "      <td>1</td>\n",
              "      <td>6000</td>\n",
              "      <td>Y</td>\n",
              "      <td>1</td>\n",
              "      <td>0</td>\n",
              "      <td>0</td>\n",
              "      <td>0.0</td>\n",
              "      <td>1.0</td>\n",
              "      <td>0.0</td>\n",
              "      <td>0.0</td>\n",
              "      <td>0.0</td>\n",
              "      <td>141.0</td>\n",
              "      <td>360.0</td>\n",
              "      <td>1.0</td>\n",
              "    </tr>\n",
              "  </tbody>\n",
              "</table>\n",
              "</div>"
            ],
            "text/plain": [
              "    Loan_ID  Education  ...  Loan_Amount_Term Credit_History\n",
              "0  LP001002          1  ...             360.0            1.0\n",
              "1  LP001003          1  ...             360.0            1.0\n",
              "2  LP001005          1  ...             360.0            1.0\n",
              "3  LP001006          0  ...             360.0            1.0\n",
              "4  LP001008          1  ...             360.0            1.0\n",
              "\n",
              "[5 rows x 15 columns]"
            ]
          },
          "metadata": {
            "tags": []
          },
          "execution_count": 16
        }
      ]
    },
    {
      "cell_type": "code",
      "metadata": {
        "id": "GIOjNcUpl_1V",
        "colab_type": "code",
        "colab": {}
      },
      "source": [
        "df_train['Loan_Status']=df_train['Loan_Status'].map({'Y':1,'N':0})\n",
        "y=df_train['Loan_Status']\n",
        "x=df_train.drop(['Loan_Status','Loan_ID'],axis=1)"
      ],
      "execution_count": 17,
      "outputs": []
    },
    {
      "cell_type": "code",
      "metadata": {
        "id": "SVCqutRXmYJ2",
        "colab_type": "code",
        "colab": {
          "base_uri": "https://localhost:8080/",
          "height": 50
        },
        "outputId": "c137938e-12b5-453b-88fe-977a484d3845"
      },
      "source": [
        "print(len(x))\n",
        "print(len(y))"
      ],
      "execution_count": 18,
      "outputs": [
        {
          "output_type": "stream",
          "text": [
            "614\n",
            "614\n"
          ],
          "name": "stdout"
        }
      ]
    },
    {
      "cell_type": "code",
      "metadata": {
        "id": "_76QJF2UOgOv",
        "colab_type": "code",
        "colab": {
          "base_uri": "https://localhost:8080/",
          "height": 34
        },
        "outputId": "c30e3e4e-6c4b-4704-a434-608f3175d77f"
      },
      "source": [
        "x.shape"
      ],
      "execution_count": 19,
      "outputs": [
        {
          "output_type": "execute_result",
          "data": {
            "text/plain": [
              "(614, 13)"
            ]
          },
          "metadata": {
            "tags": []
          },
          "execution_count": 19
        }
      ]
    },
    {
      "cell_type": "markdown",
      "metadata": {
        "id": "03Ron5I6boj7",
        "colab_type": "text"
      },
      "source": [
        "#Scaler"
      ]
    },
    {
      "cell_type": "code",
      "metadata": {
        "id": "TrpFcFJ4ridN",
        "colab_type": "code",
        "colab": {}
      },
      "source": [
        "from sklearn.preprocessing import StandardScaler\n",
        "mms=StandardScaler()\n",
        "x_scaled=mms.fit_transform(x)"
      ],
      "execution_count": 20,
      "outputs": []
    },
    {
      "cell_type": "markdown",
      "metadata": {
        "id": "YfCnWIZUI4uZ",
        "colab_type": "text"
      },
      "source": [
        "#Feature Selection"
      ]
    },
    {
      "cell_type": "code",
      "metadata": {
        "id": "Z1emuSbtIoO5",
        "colab_type": "code",
        "colab": {}
      },
      "source": [
        "from sklearn.feature_selection import mutual_info_classif\n",
        "relation_targets=pd.DataFrame(mutual_info_classif(x_scaled,y),columns=['Relation_with_target'])\n",
        "relation_targets['columns']=x.columns"
      ],
      "execution_count": 21,
      "outputs": []
    },
    {
      "cell_type": "code",
      "metadata": {
        "id": "DQHEmc_DJMnP",
        "colab_type": "code",
        "colab": {
          "base_uri": "https://localhost:8080/",
          "height": 432
        },
        "outputId": "8ca95905-63c4-4d84-9bb8-bf2dd8d8fdc2"
      },
      "source": [
        "relation_targets.sort_values('Relation_with_target',ascending=False)"
      ],
      "execution_count": 33,
      "outputs": [
        {
          "output_type": "execute_result",
          "data": {
            "text/html": [
              "<div>\n",
              "<style scoped>\n",
              "    .dataframe tbody tr th:only-of-type {\n",
              "        vertical-align: middle;\n",
              "    }\n",
              "\n",
              "    .dataframe tbody tr th {\n",
              "        vertical-align: top;\n",
              "    }\n",
              "\n",
              "    .dataframe thead th {\n",
              "        text-align: right;\n",
              "    }\n",
              "</style>\n",
              "<table border=\"1\" class=\"dataframe\">\n",
              "  <thead>\n",
              "    <tr style=\"text-align: right;\">\n",
              "      <th></th>\n",
              "      <th>Relation_with_target</th>\n",
              "      <th>columns</th>\n",
              "    </tr>\n",
              "  </thead>\n",
              "  <tbody>\n",
              "    <tr>\n",
              "      <th>12</th>\n",
              "      <td>0.142884</td>\n",
              "      <td>Credit_History</td>\n",
              "    </tr>\n",
              "    <tr>\n",
              "      <th>4</th>\n",
              "      <td>0.034897</td>\n",
              "      <td>Self_Employed</td>\n",
              "    </tr>\n",
              "    <tr>\n",
              "      <th>8</th>\n",
              "      <td>0.027824</td>\n",
              "      <td>1</td>\n",
              "    </tr>\n",
              "    <tr>\n",
              "      <th>7</th>\n",
              "      <td>0.026380</td>\n",
              "      <td>0</td>\n",
              "    </tr>\n",
              "    <tr>\n",
              "      <th>9</th>\n",
              "      <td>0.026108</td>\n",
              "      <td>2</td>\n",
              "    </tr>\n",
              "    <tr>\n",
              "      <th>0</th>\n",
              "      <td>0.017064</td>\n",
              "      <td>Education</td>\n",
              "    </tr>\n",
              "    <tr>\n",
              "      <th>11</th>\n",
              "      <td>0.016081</td>\n",
              "      <td>Loan_Amount_Term</td>\n",
              "    </tr>\n",
              "    <tr>\n",
              "      <th>1</th>\n",
              "      <td>0.009216</td>\n",
              "      <td>ApplicantIncome</td>\n",
              "    </tr>\n",
              "    <tr>\n",
              "      <th>5</th>\n",
              "      <td>0.000673</td>\n",
              "      <td>Urban</td>\n",
              "    </tr>\n",
              "    <tr>\n",
              "      <th>2</th>\n",
              "      <td>0.000000</td>\n",
              "      <td>Gender</td>\n",
              "    </tr>\n",
              "    <tr>\n",
              "      <th>3</th>\n",
              "      <td>0.000000</td>\n",
              "      <td>Married</td>\n",
              "    </tr>\n",
              "    <tr>\n",
              "      <th>6</th>\n",
              "      <td>0.000000</td>\n",
              "      <td>Rural</td>\n",
              "    </tr>\n",
              "    <tr>\n",
              "      <th>10</th>\n",
              "      <td>0.000000</td>\n",
              "      <td>LoanAmount</td>\n",
              "    </tr>\n",
              "  </tbody>\n",
              "</table>\n",
              "</div>"
            ],
            "text/plain": [
              "    Relation_with_target           columns\n",
              "12              0.142884    Credit_History\n",
              "4               0.034897     Self_Employed\n",
              "8               0.027824                 1\n",
              "7               0.026380                 0\n",
              "9               0.026108                 2\n",
              "0               0.017064         Education\n",
              "11              0.016081  Loan_Amount_Term\n",
              "1               0.009216   ApplicantIncome\n",
              "5               0.000673             Urban\n",
              "2               0.000000            Gender\n",
              "3               0.000000           Married\n",
              "6               0.000000             Rural\n",
              "10              0.000000        LoanAmount"
            ]
          },
          "metadata": {
            "tags": []
          },
          "execution_count": 33
        }
      ]
    },
    {
      "cell_type": "code",
      "metadata": {
        "id": "R9qJjXRT05Bc",
        "colab_type": "code",
        "colab": {}
      },
      "source": [
        "from sklearn.feature_selection import SelectKBest\n",
        "from sklearn.feature_selection import chi2\n",
        "skb=SelectKBest(score_func=chi2,k=x.shape[1])"
      ],
      "execution_count": 23,
      "outputs": []
    },
    {
      "cell_type": "code",
      "metadata": {
        "id": "gb41pq2_4VBf",
        "colab_type": "code",
        "colab": {
          "base_uri": "https://localhost:8080/",
          "height": 34
        },
        "outputId": "9a74f82b-a55a-49ee-f52f-67e6ead10107"
      },
      "source": [
        "from sklearn.preprocessing import MinMaxScaler\n",
        "mm_scaler=MinMaxScaler()\n",
        "x_mm=mm_scaler.fit_transform(x)\n",
        "skb.fit(x_mm,y)"
      ],
      "execution_count": 30,
      "outputs": [
        {
          "output_type": "execute_result",
          "data": {
            "text/plain": [
              "SelectKBest(k=13, score_func=<function chi2 at 0x7f3bed1ac7b8>)"
            ]
          },
          "metadata": {
            "tags": []
          },
          "execution_count": 30
        }
      ]
    },
    {
      "cell_type": "code",
      "metadata": {
        "id": "dY81TCqt4qXw",
        "colab_type": "code",
        "colab": {}
      },
      "source": [
        "best_features=pd.DataFrame(skb.scores_,columns=['Chi2 Score'])\n",
        "best_features['Column']=x.columns"
      ],
      "execution_count": 31,
      "outputs": []
    },
    {
      "cell_type": "code",
      "metadata": {
        "id": "C8pY4s2143-V",
        "colab_type": "code",
        "colab": {
          "base_uri": "https://localhost:8080/",
          "height": 432
        },
        "outputId": "53ac30ea-2a27-4220-97db-44c439fb8530"
      },
      "source": [
        "best_features.sort_values('Chi2 Score',ascending=False)"
      ],
      "execution_count": 32,
      "outputs": [
        {
          "output_type": "execute_result",
          "data": {
            "text/html": [
              "<div>\n",
              "<style scoped>\n",
              "    .dataframe tbody tr th:only-of-type {\n",
              "        vertical-align: middle;\n",
              "    }\n",
              "\n",
              "    .dataframe tbody tr th {\n",
              "        vertical-align: top;\n",
              "    }\n",
              "\n",
              "    .dataframe thead th {\n",
              "        text-align: right;\n",
              "    }\n",
              "</style>\n",
              "<table border=\"1\" class=\"dataframe\">\n",
              "  <thead>\n",
              "    <tr style=\"text-align: right;\">\n",
              "      <th></th>\n",
              "      <th>Chi2 Score</th>\n",
              "      <th>Column</th>\n",
              "    </tr>\n",
              "  </thead>\n",
              "  <tbody>\n",
              "    <tr>\n",
              "      <th>12</th>\n",
              "      <td>24.689650</td>\n",
              "      <td>Credit_History</td>\n",
              "    </tr>\n",
              "    <tr>\n",
              "      <th>5</th>\n",
              "      <td>7.103093</td>\n",
              "      <td>Urban</td>\n",
              "    </tr>\n",
              "    <tr>\n",
              "      <th>8</th>\n",
              "      <td>1.996446</td>\n",
              "      <td>1</td>\n",
              "    </tr>\n",
              "    <tr>\n",
              "      <th>3</th>\n",
              "      <td>1.782425</td>\n",
              "      <td>Married</td>\n",
              "    </tr>\n",
              "    <tr>\n",
              "      <th>0</th>\n",
              "      <td>0.988390</td>\n",
              "      <td>Education</td>\n",
              "    </tr>\n",
              "    <tr>\n",
              "      <th>6</th>\n",
              "      <td>0.783946</td>\n",
              "      <td>Rural</td>\n",
              "    </tr>\n",
              "    <tr>\n",
              "      <th>7</th>\n",
              "      <td>0.768400</td>\n",
              "      <td>0</td>\n",
              "    </tr>\n",
              "    <tr>\n",
              "      <th>9</th>\n",
              "      <td>0.384200</td>\n",
              "      <td>2</td>\n",
              "    </tr>\n",
              "    <tr>\n",
              "      <th>10</th>\n",
              "      <td>0.047199</td>\n",
              "      <td>LoanAmount</td>\n",
              "    </tr>\n",
              "    <tr>\n",
              "      <th>2</th>\n",
              "      <td>0.036234</td>\n",
              "      <td>Gender</td>\n",
              "    </tr>\n",
              "    <tr>\n",
              "      <th>11</th>\n",
              "      <td>0.009510</td>\n",
              "      <td>Loan_Amount_Term</td>\n",
              "    </tr>\n",
              "    <tr>\n",
              "      <th>4</th>\n",
              "      <td>0.007285</td>\n",
              "      <td>Self_Employed</td>\n",
              "    </tr>\n",
              "    <tr>\n",
              "      <th>1</th>\n",
              "      <td>0.001195</td>\n",
              "      <td>ApplicantIncome</td>\n",
              "    </tr>\n",
              "  </tbody>\n",
              "</table>\n",
              "</div>"
            ],
            "text/plain": [
              "    Chi2 Score            Column\n",
              "12   24.689650    Credit_History\n",
              "5     7.103093             Urban\n",
              "8     1.996446                 1\n",
              "3     1.782425           Married\n",
              "0     0.988390         Education\n",
              "6     0.783946             Rural\n",
              "7     0.768400                 0\n",
              "9     0.384200                 2\n",
              "10    0.047199        LoanAmount\n",
              "2     0.036234            Gender\n",
              "11    0.009510  Loan_Amount_Term\n",
              "4     0.007285     Self_Employed\n",
              "1     0.001195   ApplicantIncome"
            ]
          },
          "metadata": {
            "tags": []
          },
          "execution_count": 32
        }
      ]
    },
    {
      "cell_type": "markdown",
      "metadata": {
        "id": "HIzAuncdbqHE",
        "colab_type": "text"
      },
      "source": [
        "#Kflod"
      ]
    },
    {
      "cell_type": "code",
      "metadata": {
        "id": "LsvaK4ppm9fG",
        "colab_type": "code",
        "colab": {}
      },
      "source": [
        "from sklearn.model_selection import StratifiedKFold\n",
        "skf_10=StratifiedKFold(n_splits=10,shuffle=True)"
      ],
      "execution_count": 34,
      "outputs": []
    },
    {
      "cell_type": "markdown",
      "metadata": {
        "id": "VDQB_JWjb_NA",
        "colab_type": "text"
      },
      "source": [
        "# Metrics"
      ]
    },
    {
      "cell_type": "code",
      "metadata": {
        "id": "OIzWRI-BppMv",
        "colab_type": "code",
        "colab": {}
      },
      "source": [
        "from sklearn.metrics import accuracy_score\n",
        "from sklearn.metrics import classification_report"
      ],
      "execution_count": 35,
      "outputs": []
    },
    {
      "cell_type": "code",
      "metadata": {
        "id": "XZbKlaTjSgem",
        "colab_type": "code",
        "colab": {}
      },
      "source": [
        "from sklearn.model_selection import cross_val_score"
      ],
      "execution_count": 36,
      "outputs": []
    },
    {
      "cell_type": "markdown",
      "metadata": {
        "id": "EiJq0FPstZ5M",
        "colab_type": "text"
      },
      "source": [
        "#Selecting Model"
      ]
    },
    {
      "cell_type": "code",
      "metadata": {
        "id": "fD-nHrxXtZKF",
        "colab_type": "code",
        "colab": {}
      },
      "source": [
        "from sklearn.linear_model import LogisticRegression\n",
        "from sklearn.tree import DecisionTreeClassifier\n",
        "from sklearn.ensemble import RandomForestClassifier\n",
        "from sklearn.svm import SVC\n",
        "from sklearn.neighbors import KNeighborsClassifier"
      ],
      "execution_count": 37,
      "outputs": []
    },
    {
      "cell_type": "code",
      "metadata": {
        "id": "z3jQygwWuW6m",
        "colab_type": "code",
        "colab": {}
      },
      "source": [
        "models=[]\n",
        "models.append((\"LogReg\",LogisticRegression()))\n",
        "models.append((\"DesicionTree\",DecisionTreeClassifier()))\n",
        "models.append((\"SVC\",SVC()))\n",
        "models.append((\"kNN\",KNeighborsClassifier()))\n",
        "models.append((\"RandomForest\",RandomForestClassifier()))"
      ],
      "execution_count": 40,
      "outputs": []
    },
    {
      "cell_type": "code",
      "metadata": {
        "id": "tW_ligH5uXHD",
        "colab_type": "code",
        "colab": {
          "base_uri": "https://localhost:8080/",
          "height": 185
        },
        "outputId": "788554aa-4398-4d3a-c54e-c78f84b5946d"
      },
      "source": [
        "names=[]\n",
        "result=[]\n",
        "scoring='accuracy'\n",
        "for name,model in models:\n",
        "  cv_result=cross_val_score(model,x_scaled,y,scoring=scoring,cv=skf_10)\n",
        "  print(\"Model created: %s ------> Validation Error: %.2f\" % (name,cv_result.mean()))\n",
        "  print(\"-----------------------------------------------\")"
      ],
      "execution_count": 42,
      "outputs": [
        {
          "output_type": "stream",
          "text": [
            "Model created: LogReg ------> Validation Error: 0.80\n",
            "-----------------------------------------------\n",
            "Model created: DesicionTree ------> Validation Error: 0.71\n",
            "-----------------------------------------------\n",
            "Model created: SVC ------> Validation Error: 0.80\n",
            "-----------------------------------------------\n",
            "Model created: kNN ------> Validation Error: 0.76\n",
            "-----------------------------------------------\n",
            "Model created: RandomForest ------> Validation Error: 0.79\n",
            "-----------------------------------------------\n"
          ],
          "name": "stdout"
        }
      ]
    },
    {
      "cell_type": "markdown",
      "metadata": {
        "id": "j2zM57aS_ICL",
        "colab_type": "text"
      },
      "source": [
        "### Testing the model with SVC , LogReg and RandomForest for Hyperparameter Tuning"
      ]
    },
    {
      "cell_type": "markdown",
      "metadata": {
        "id": "Hls4Xptef7Ys",
        "colab_type": "text"
      },
      "source": [
        "# Testing various model "
      ]
    },
    {
      "cell_type": "markdown",
      "metadata": {
        "id": "PTMlLSx9_pFL",
        "colab_type": "text"
      },
      "source": [
        "## Log Reg"
      ]
    },
    {
      "cell_type": "code",
      "metadata": {
        "id": "GDtSd1rz_VSL",
        "colab_type": "code",
        "colab": {
          "base_uri": "https://localhost:8080/",
          "height": 34
        },
        "outputId": "a227b783-bcae-4cff-da4c-82b6ed0e0161"
      },
      "source": [
        "## Tuning Tol , max_iter and penalty \n",
        "log_reg=LogisticRegression(penalty='none',tol=0.0001,max_iter=200)\n",
        "np.mean(cross_val_score(log_reg,x_scaled,y,cv=skf_10))"
      ],
      "execution_count": 55,
      "outputs": [
        {
          "output_type": "execute_result",
          "data": {
            "text/plain": [
              "0.7979640401903755"
            ]
          },
          "metadata": {
            "tags": []
          },
          "execution_count": 55
        }
      ]
    },
    {
      "cell_type": "code",
      "metadata": {
        "colab_type": "code",
        "id": "1Wr-Z-OtAGtA",
        "colab": {
          "base_uri": "https://localhost:8080/",
          "height": 34
        },
        "outputId": "a51cafd7-79cc-4f95-8ffe-e2dd8f589e94"
      },
      "source": [
        "## Tuning Tol , max_iter and penalty \n",
        "log_reg=LogisticRegression(penalty='l2',tol=0.00001,max_iter=500)\n",
        "np.mean(cross_val_score(log_reg,x_scaled,y,cv=skf_10))"
      ],
      "execution_count": 58,
      "outputs": [
        {
          "output_type": "execute_result",
          "data": {
            "text/plain": [
              "0.7961924907456371"
            ]
          },
          "metadata": {
            "tags": []
          },
          "execution_count": 58
        }
      ]
    },
    {
      "cell_type": "markdown",
      "metadata": {
        "id": "UMyztEUy_2Nu",
        "colab_type": "text"
      },
      "source": [
        "## Random Forest"
      ]
    },
    {
      "cell_type": "code",
      "metadata": {
        "id": "3E1b2DvrgFw6",
        "colab_type": "code",
        "colab": {
          "base_uri": "https://localhost:8080/",
          "height": 185
        },
        "outputId": "19eeb42a-ed72-40d2-b283-2fffbc1f185d"
      },
      "source": [
        "## Selecting few features + moderating n_estimators\n",
        "features=['Education', 'ApplicantIncome', 'Self_Employed',\n",
        "       'Urban', 'Rural', 'LoanAmount', 'Loan_Amount_Term', 'Credit_History']\n",
        "for i in range(10,60,10):\n",
        "  rfc_model=RandomForestClassifier(n_estimators=i)\n",
        "  rfc_model.fit(x[features],y)\n",
        "  print('Training error: %.2f -----> Validation Error: %.2f' % (rfc_model.score(x[features],y),np.mean(cross_val_score(rfc_model,x[features],y,cv=skf_10))))\n",
        "  print('---------------------------------------------------')"
      ],
      "execution_count": 60,
      "outputs": [
        {
          "output_type": "stream",
          "text": [
            "Training error: 0.98 -----> Validation Error: 0.75\n",
            "---------------------------------------------------\n",
            "Training error: 1.00 -----> Validation Error: 0.78\n",
            "---------------------------------------------------\n",
            "Training error: 1.00 -----> Validation Error: 0.79\n",
            "---------------------------------------------------\n",
            "Training error: 1.00 -----> Validation Error: 0.78\n",
            "---------------------------------------------------\n",
            "Training error: 1.00 -----> Validation Error: 0.78\n",
            "---------------------------------------------------\n"
          ],
          "name": "stdout"
        }
      ]
    },
    {
      "cell_type": "code",
      "metadata": {
        "id": "YWlwEmzaA4Q9",
        "colab_type": "code",
        "colab": {
          "base_uri": "https://localhost:8080/",
          "height": 185
        },
        "outputId": "2e785764-9724-404a-bf37-83c37235b503"
      },
      "source": [
        "for i in range(10,60,10):\n",
        "  rfc_model=RandomForestClassifier(n_estimators=i)\n",
        "  rfc_model.fit(x,y)\n",
        "  print('Training error: %.2f -----> Validation Error: %.2f' % (rfc_model.score(x,y),np.mean(cross_val_score(rfc_model,x,y,cv=skf_10))))\n",
        "  print('---------------------------------------------------')"
      ],
      "execution_count": 68,
      "outputs": [
        {
          "output_type": "stream",
          "text": [
            "Training error: 1.00 -----> Validation Error: 0.75\n",
            "---------------------------------------------------\n",
            "Training error: 0.99 -----> Validation Error: 0.78\n",
            "---------------------------------------------------\n",
            "Training error: 1.00 -----> Validation Error: 0.77\n",
            "---------------------------------------------------\n",
            "Training error: 1.00 -----> Validation Error: 0.79\n",
            "---------------------------------------------------\n",
            "Training error: 1.00 -----> Validation Error: 0.78\n",
            "---------------------------------------------------\n"
          ],
          "name": "stdout"
        }
      ]
    },
    {
      "cell_type": "markdown",
      "metadata": {
        "id": "dOfjnry4BCLG",
        "colab_type": "text"
      },
      "source": [
        "## SVM "
      ]
    },
    {
      "cell_type": "code",
      "metadata": {
        "id": "P5nSb9JpBEUc",
        "colab_type": "code",
        "colab": {
          "base_uri": "https://localhost:8080/",
          "height": 34
        },
        "outputId": "2c863a47-b8a2-453f-f7df-0404bba14482"
      },
      "source": [
        "from sklearn.svm import SVC\n",
        "svm=SVC(C=1)\n",
        "svm.fit(x_scaled,y)\n",
        "print('Training error: %.2f -----> Validation Error: %.2f' % (svm.score(x_scaled,y),np.mean(cross_val_score(svm,x_scaled,y,cv=skf_10))))"
      ],
      "execution_count": 73,
      "outputs": [
        {
          "output_type": "stream",
          "text": [
            "Training error: 0.83 -----> Validation Error: 0.80\n"
          ],
          "name": "stdout"
        }
      ]
    },
    {
      "cell_type": "markdown",
      "metadata": {
        "id": "6je4MSqBHv6E",
        "colab_type": "text"
      },
      "source": [
        "##SVM is our final Model"
      ]
    },
    {
      "cell_type": "markdown",
      "metadata": {
        "id": "BMs7vxIEtTkM",
        "colab_type": "text"
      },
      "source": [
        "#Test Data"
      ]
    },
    {
      "cell_type": "code",
      "metadata": {
        "id": "lgZTgWKg1swK",
        "colab_type": "code",
        "colab": {}
      },
      "source": [
        "test=pd.read_csv('/content/drive/My Drive/Colab Notebooks/Competitions/Loan Prediction/test_lAUu6dG.csv')"
      ],
      "execution_count": 74,
      "outputs": []
    },
    {
      "cell_type": "code",
      "metadata": {
        "id": "LbO2BbZbMOSr",
        "colab_type": "code",
        "colab": {}
      },
      "source": [
        "test=remove_missing_value_cat(test,si)"
      ],
      "execution_count": 75,
      "outputs": []
    },
    {
      "cell_type": "code",
      "metadata": {
        "id": "fCz3tghZs_V5",
        "colab_type": "code",
        "colab": {}
      },
      "source": [
        "test=categorical_to_binary(test,ohe_pa,ohe_dep)"
      ],
      "execution_count": 76,
      "outputs": []
    },
    {
      "cell_type": "code",
      "metadata": {
        "id": "B_11lJEftWFq",
        "colab_type": "code",
        "colab": {}
      },
      "source": [
        "test=remove_missing_value_num(test,knn_impute_num)"
      ],
      "execution_count": 77,
      "outputs": []
    },
    {
      "cell_type": "code",
      "metadata": {
        "id": "WOb3M0oDtbUW",
        "colab_type": "code",
        "colab": {}
      },
      "source": [
        "test_id=test['Loan_ID']\n",
        "test.drop('Loan_ID',axis=1,inplace=True)"
      ],
      "execution_count": 78,
      "outputs": []
    },
    {
      "cell_type": "code",
      "metadata": {
        "id": "NRUfyheEtjCK",
        "colab_type": "code",
        "colab": {
          "base_uri": "https://localhost:8080/",
          "height": 34
        },
        "outputId": "3052cbdd-b16d-420b-ecc5-dd5573a46fcc"
      },
      "source": [
        "len(test)"
      ],
      "execution_count": 79,
      "outputs": [
        {
          "output_type": "execute_result",
          "data": {
            "text/plain": [
              "367"
            ]
          },
          "metadata": {
            "tags": []
          },
          "execution_count": 79
        }
      ]
    },
    {
      "cell_type": "code",
      "metadata": {
        "id": "qWWaPU_Dtlb1",
        "colab_type": "code",
        "colab": {}
      },
      "source": [
        "test_scaled=mms.transform(test)"
      ],
      "execution_count": 80,
      "outputs": []
    },
    {
      "cell_type": "code",
      "metadata": {
        "id": "BDUmPvAOt2R6",
        "colab_type": "code",
        "colab": {}
      },
      "source": [
        "svc_final_model=SVC(C=1)"
      ],
      "execution_count": 93,
      "outputs": []
    },
    {
      "cell_type": "code",
      "metadata": {
        "id": "MY1dYnOQCXcw",
        "colab_type": "code",
        "colab": {
          "base_uri": "https://localhost:8080/",
          "height": 84
        },
        "outputId": "be7bf261-c72e-4bd0-9128-769f6e4a50b1"
      },
      "source": [
        "svc_final_model.fit(x_scaled,y)"
      ],
      "execution_count": 94,
      "outputs": [
        {
          "output_type": "execute_result",
          "data": {
            "text/plain": [
              "SVC(C=1, break_ties=False, cache_size=200, class_weight=None, coef0=0.0,\n",
              "    decision_function_shape='ovr', degree=3, gamma='scale', kernel='rbf',\n",
              "    max_iter=-1, probability=False, random_state=None, shrinking=True,\n",
              "    tol=0.001, verbose=False)"
            ]
          },
          "metadata": {
            "tags": []
          },
          "execution_count": 94
        }
      ]
    },
    {
      "cell_type": "code",
      "metadata": {
        "id": "OlItYxw-tqHk",
        "colab_type": "code",
        "colab": {}
      },
      "source": [
        "pred=svc_final_model.predict(test_scaled)"
      ],
      "execution_count": 95,
      "outputs": []
    },
    {
      "cell_type": "code",
      "metadata": {
        "id": "EcdQx6jetzgd",
        "colab_type": "code",
        "colab": {}
      },
      "source": [
        "result=pd.DataFrame()\n",
        "result['Loan_ID']=test_id\n",
        "result['Loan_Status']=pred"
      ],
      "execution_count": 96,
      "outputs": []
    },
    {
      "cell_type": "code",
      "metadata": {
        "id": "RN4AntVYt83i",
        "colab_type": "code",
        "colab": {}
      },
      "source": [
        "result['Loan_Status']=result['Loan_Status'].map({1:'Y',0:'N'})"
      ],
      "execution_count": 97,
      "outputs": []
    },
    {
      "cell_type": "code",
      "metadata": {
        "id": "_iNEAGS9uJuS",
        "colab_type": "code",
        "colab": {}
      },
      "source": [
        "result.to_csv('svm1.csv',index=False)"
      ],
      "execution_count": 99,
      "outputs": []
    },
    {
      "cell_type": "code",
      "metadata": {
        "id": "XL1oqKWvS-m0",
        "colab_type": "code",
        "colab": {
          "base_uri": "https://localhost:8080/",
          "height": 67
        },
        "outputId": "35d1667e-b152-49aa-9025-1b6382185d1e"
      },
      "source": [
        "result['Loan_Status'].value_counts()"
      ],
      "execution_count": 98,
      "outputs": [
        {
          "output_type": "execute_result",
          "data": {
            "text/plain": [
              "Y    304\n",
              "N     63\n",
              "Name: Loan_Status, dtype: int64"
            ]
          },
          "metadata": {
            "tags": []
          },
          "execution_count": 98
        }
      ]
    }
  ]
}